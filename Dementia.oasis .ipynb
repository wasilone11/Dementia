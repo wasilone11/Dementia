{
 "cells": [
  {
   "cell_type": "code",
   "execution_count": 1,
   "id": "accessory-cedar",
   "metadata": {},
   "outputs": [],
   "source": [
    "import pandas as pd # used to load, manipulate the data and for one-hot encoding\n",
    "import numpy as np # data manipulation\n",
    "%matplotlib inline\n",
    "import matplotlib.pyplot as plt\n",
    "import matplotlib.colors as colors\n",
    "from sklearn.utils import resample # for downsample the dataset\n",
    "from sklearn.model_selection import train_test_split # for splitting the dataset into train and test split\n",
    "from sklearn.preprocessing import scale # scale and center the data\n",
    "from sklearn.svm import SVC # will make a SVM for classification\n",
    "from sklearn.model_selection import GridSearchCV # will do the cross validation\n",
    "from sklearn.metrics import plot_confusion_matrix # will draw the confusion matrix\n",
    "from sklearn.decomposition import PCA # to perform PCA to plot the data\n",
    "from sklearn.impute import SimpleImputer\n",
    "from sklearn.preprocessing import StandardScaler, MinMaxScaler\n",
    "from sklearn.model_selection import cross_val_score\n",
    "from sklearn.metrics import confusion_matrix, precision_score, accuracy_score, recall_score, roc_curve, auc\n",
    "import seaborn as sns"
   ]
  },
  {
   "cell_type": "code",
   "execution_count": 2,
   "id": "minimal-qualification",
   "metadata": {},
   "outputs": [],
   "source": [
    "df = pd.read_csv(r'C:\\Users\\Dell\\Desktop\\OASISProject\\oasis_longitudinal.csv')"
   ]
  },
  {
   "cell_type": "code",
   "execution_count": 3,
   "id": "bound-sucking",
   "metadata": {},
   "outputs": [
    {
     "data": {
      "text/html": [
       "<div>\n",
       "<style scoped>\n",
       "    .dataframe tbody tr th:only-of-type {\n",
       "        vertical-align: middle;\n",
       "    }\n",
       "\n",
       "    .dataframe tbody tr th {\n",
       "        vertical-align: top;\n",
       "    }\n",
       "\n",
       "    .dataframe thead th {\n",
       "        text-align: right;\n",
       "    }\n",
       "</style>\n",
       "<table border=\"1\" class=\"dataframe\">\n",
       "  <thead>\n",
       "    <tr style=\"text-align: right;\">\n",
       "      <th></th>\n",
       "      <th>Subject ID</th>\n",
       "      <th>MRI ID</th>\n",
       "      <th>Group</th>\n",
       "      <th>Visit</th>\n",
       "      <th>MR Delay</th>\n",
       "      <th>M/F</th>\n",
       "      <th>Hand</th>\n",
       "      <th>Age</th>\n",
       "      <th>EDUC</th>\n",
       "      <th>SES</th>\n",
       "      <th>MMSE</th>\n",
       "      <th>CDR</th>\n",
       "      <th>eTIV</th>\n",
       "      <th>nWBV</th>\n",
       "      <th>ASF</th>\n",
       "    </tr>\n",
       "  </thead>\n",
       "  <tbody>\n",
       "    <tr>\n",
       "      <th>0</th>\n",
       "      <td>OAS2_0001</td>\n",
       "      <td>OAS2_0001_MR1</td>\n",
       "      <td>Nondemented</td>\n",
       "      <td>1</td>\n",
       "      <td>0</td>\n",
       "      <td>M</td>\n",
       "      <td>R</td>\n",
       "      <td>87</td>\n",
       "      <td>14</td>\n",
       "      <td>2.0</td>\n",
       "      <td>27.0</td>\n",
       "      <td>0.0</td>\n",
       "      <td>1987</td>\n",
       "      <td>0.696</td>\n",
       "      <td>0.883</td>\n",
       "    </tr>\n",
       "    <tr>\n",
       "      <th>1</th>\n",
       "      <td>OAS2_0001</td>\n",
       "      <td>OAS2_0001_MR2</td>\n",
       "      <td>Nondemented</td>\n",
       "      <td>2</td>\n",
       "      <td>457</td>\n",
       "      <td>M</td>\n",
       "      <td>R</td>\n",
       "      <td>88</td>\n",
       "      <td>14</td>\n",
       "      <td>2.0</td>\n",
       "      <td>30.0</td>\n",
       "      <td>0.0</td>\n",
       "      <td>2004</td>\n",
       "      <td>0.681</td>\n",
       "      <td>0.876</td>\n",
       "    </tr>\n",
       "    <tr>\n",
       "      <th>2</th>\n",
       "      <td>OAS2_0002</td>\n",
       "      <td>OAS2_0002_MR1</td>\n",
       "      <td>Demented</td>\n",
       "      <td>1</td>\n",
       "      <td>0</td>\n",
       "      <td>M</td>\n",
       "      <td>R</td>\n",
       "      <td>75</td>\n",
       "      <td>12</td>\n",
       "      <td>NaN</td>\n",
       "      <td>23.0</td>\n",
       "      <td>0.5</td>\n",
       "      <td>1678</td>\n",
       "      <td>0.736</td>\n",
       "      <td>1.046</td>\n",
       "    </tr>\n",
       "    <tr>\n",
       "      <th>3</th>\n",
       "      <td>OAS2_0002</td>\n",
       "      <td>OAS2_0002_MR2</td>\n",
       "      <td>Demented</td>\n",
       "      <td>2</td>\n",
       "      <td>560</td>\n",
       "      <td>M</td>\n",
       "      <td>R</td>\n",
       "      <td>76</td>\n",
       "      <td>12</td>\n",
       "      <td>NaN</td>\n",
       "      <td>28.0</td>\n",
       "      <td>0.5</td>\n",
       "      <td>1738</td>\n",
       "      <td>0.713</td>\n",
       "      <td>1.010</td>\n",
       "    </tr>\n",
       "    <tr>\n",
       "      <th>4</th>\n",
       "      <td>OAS2_0002</td>\n",
       "      <td>OAS2_0002_MR3</td>\n",
       "      <td>Demented</td>\n",
       "      <td>3</td>\n",
       "      <td>1895</td>\n",
       "      <td>M</td>\n",
       "      <td>R</td>\n",
       "      <td>80</td>\n",
       "      <td>12</td>\n",
       "      <td>NaN</td>\n",
       "      <td>22.0</td>\n",
       "      <td>0.5</td>\n",
       "      <td>1698</td>\n",
       "      <td>0.701</td>\n",
       "      <td>1.034</td>\n",
       "    </tr>\n",
       "  </tbody>\n",
       "</table>\n",
       "</div>"
      ],
      "text/plain": [
       "  Subject ID         MRI ID        Group  Visit  MR Delay M/F Hand  Age  EDUC  \\\n",
       "0  OAS2_0001  OAS2_0001_MR1  Nondemented      1         0   M    R   87    14   \n",
       "1  OAS2_0001  OAS2_0001_MR2  Nondemented      2       457   M    R   88    14   \n",
       "2  OAS2_0002  OAS2_0002_MR1     Demented      1         0   M    R   75    12   \n",
       "3  OAS2_0002  OAS2_0002_MR2     Demented      2       560   M    R   76    12   \n",
       "4  OAS2_0002  OAS2_0002_MR3     Demented      3      1895   M    R   80    12   \n",
       "\n",
       "   SES  MMSE  CDR  eTIV   nWBV    ASF  \n",
       "0  2.0  27.0  0.0  1987  0.696  0.883  \n",
       "1  2.0  30.0  0.0  2004  0.681  0.876  \n",
       "2  NaN  23.0  0.5  1678  0.736  1.046  \n",
       "3  NaN  28.0  0.5  1738  0.713  1.010  \n",
       "4  NaN  22.0  0.5  1698  0.701  1.034  "
      ]
     },
     "execution_count": 3,
     "metadata": {},
     "output_type": "execute_result"
    }
   ],
   "source": [
    "df.head()"
   ]
  },
  {
   "cell_type": "code",
   "execution_count": 4,
   "id": "olympic-bonus",
   "metadata": {},
   "outputs": [],
   "source": [
    "# Since all subjects are right-handed, we will drop this column. Also, Subject ID and\n",
    "# MRI ID are used for uniquely identifying the patient and have no role to play in our \n",
    "# model and so, will be dropped\n",
    "df=df.drop(['Subject ID','MRI ID','Hand'],axis=1)"
   ]
  },
  {
   "cell_type": "code",
   "execution_count": 5,
   "id": "threatened-diving",
   "metadata": {},
   "outputs": [
    {
     "data": {
      "text/plain": [
       "(373, 12)"
      ]
     },
     "execution_count": 5,
     "metadata": {},
     "output_type": "execute_result"
    }
   ],
   "source": [
    "df.shape"
   ]
  },
  {
   "cell_type": "code",
   "execution_count": 6,
   "id": "olympic-russian",
   "metadata": {},
   "outputs": [
    {
     "data": {
      "text/plain": [
       "Group        0\n",
       "Visit        0\n",
       "MR Delay     0\n",
       "M/F          0\n",
       "Age          0\n",
       "EDUC         0\n",
       "SES         19\n",
       "MMSE         2\n",
       "CDR          0\n",
       "eTIV         0\n",
       "nWBV         0\n",
       "ASF          0\n",
       "dtype: int64"
      ]
     },
     "execution_count": 6,
     "metadata": {},
     "output_type": "execute_result"
    }
   ],
   "source": [
    "missing_values_count = df.isnull().sum()\n",
    "missing_values_count[0:12]"
   ]
  },
  {
   "cell_type": "code",
   "execution_count": 7,
   "id": "specified-hawaii",
   "metadata": {},
   "outputs": [],
   "source": [
    "# Replacing missing values in SES and MMSE with median values\n",
    "df['SES'].fillna((df['SES'].median()), inplace=True)\n",
    "df['MMSE'].fillna((df['MMSE'].median()), inplace=True)\n"
   ]
  },
  {
   "cell_type": "code",
   "execution_count": 8,
   "id": "worth-hurricane",
   "metadata": {},
   "outputs": [],
   "source": [
    "# Converting M/F and Group coulumns to numeric data \n",
    "df['M/F'] = df['M/F'].replace(['M', 'F'], [1,0])\n",
    "df['Group'] = [1 if each == \"Demented\" or each == \"Converted\" else 0 for each in df['Group']]"
   ]
  },
  {
   "cell_type": "code",
   "execution_count": 9,
   "id": "sitting-saver",
   "metadata": {},
   "outputs": [
    {
     "data": {
      "text/html": [
       "<div>\n",
       "<style scoped>\n",
       "    .dataframe tbody tr th:only-of-type {\n",
       "        vertical-align: middle;\n",
       "    }\n",
       "\n",
       "    .dataframe tbody tr th {\n",
       "        vertical-align: top;\n",
       "    }\n",
       "\n",
       "    .dataframe thead th {\n",
       "        text-align: right;\n",
       "    }\n",
       "</style>\n",
       "<table border=\"1\" class=\"dataframe\">\n",
       "  <thead>\n",
       "    <tr style=\"text-align: right;\">\n",
       "      <th></th>\n",
       "      <th>Group</th>\n",
       "      <th>Visit</th>\n",
       "      <th>MR Delay</th>\n",
       "      <th>M/F</th>\n",
       "      <th>Age</th>\n",
       "      <th>EDUC</th>\n",
       "      <th>SES</th>\n",
       "      <th>MMSE</th>\n",
       "      <th>CDR</th>\n",
       "      <th>eTIV</th>\n",
       "      <th>nWBV</th>\n",
       "      <th>ASF</th>\n",
       "    </tr>\n",
       "  </thead>\n",
       "  <tbody>\n",
       "    <tr>\n",
       "      <th>0</th>\n",
       "      <td>0</td>\n",
       "      <td>1</td>\n",
       "      <td>0</td>\n",
       "      <td>1</td>\n",
       "      <td>87</td>\n",
       "      <td>14</td>\n",
       "      <td>2.0</td>\n",
       "      <td>27.0</td>\n",
       "      <td>0.0</td>\n",
       "      <td>1987</td>\n",
       "      <td>0.696</td>\n",
       "      <td>0.883</td>\n",
       "    </tr>\n",
       "    <tr>\n",
       "      <th>1</th>\n",
       "      <td>0</td>\n",
       "      <td>2</td>\n",
       "      <td>457</td>\n",
       "      <td>1</td>\n",
       "      <td>88</td>\n",
       "      <td>14</td>\n",
       "      <td>2.0</td>\n",
       "      <td>30.0</td>\n",
       "      <td>0.0</td>\n",
       "      <td>2004</td>\n",
       "      <td>0.681</td>\n",
       "      <td>0.876</td>\n",
       "    </tr>\n",
       "    <tr>\n",
       "      <th>2</th>\n",
       "      <td>1</td>\n",
       "      <td>1</td>\n",
       "      <td>0</td>\n",
       "      <td>1</td>\n",
       "      <td>75</td>\n",
       "      <td>12</td>\n",
       "      <td>2.0</td>\n",
       "      <td>23.0</td>\n",
       "      <td>0.5</td>\n",
       "      <td>1678</td>\n",
       "      <td>0.736</td>\n",
       "      <td>1.046</td>\n",
       "    </tr>\n",
       "    <tr>\n",
       "      <th>3</th>\n",
       "      <td>1</td>\n",
       "      <td>2</td>\n",
       "      <td>560</td>\n",
       "      <td>1</td>\n",
       "      <td>76</td>\n",
       "      <td>12</td>\n",
       "      <td>2.0</td>\n",
       "      <td>28.0</td>\n",
       "      <td>0.5</td>\n",
       "      <td>1738</td>\n",
       "      <td>0.713</td>\n",
       "      <td>1.010</td>\n",
       "    </tr>\n",
       "    <tr>\n",
       "      <th>4</th>\n",
       "      <td>1</td>\n",
       "      <td>3</td>\n",
       "      <td>1895</td>\n",
       "      <td>1</td>\n",
       "      <td>80</td>\n",
       "      <td>12</td>\n",
       "      <td>2.0</td>\n",
       "      <td>22.0</td>\n",
       "      <td>0.5</td>\n",
       "      <td>1698</td>\n",
       "      <td>0.701</td>\n",
       "      <td>1.034</td>\n",
       "    </tr>\n",
       "  </tbody>\n",
       "</table>\n",
       "</div>"
      ],
      "text/plain": [
       "   Group  Visit  MR Delay  M/F  Age  EDUC  SES  MMSE  CDR  eTIV   nWBV    ASF\n",
       "0      0      1         0    1   87    14  2.0  27.0  0.0  1987  0.696  0.883\n",
       "1      0      2       457    1   88    14  2.0  30.0  0.0  2004  0.681  0.876\n",
       "2      1      1         0    1   75    12  2.0  23.0  0.5  1678  0.736  1.046\n",
       "3      1      2       560    1   76    12  2.0  28.0  0.5  1738  0.713  1.010\n",
       "4      1      3      1895    1   80    12  2.0  22.0  0.5  1698  0.701  1.034"
      ]
     },
     "execution_count": 9,
     "metadata": {},
     "output_type": "execute_result"
    }
   ],
   "source": [
    "df.head()"
   ]
  },
  {
   "cell_type": "code",
   "execution_count": 10,
   "id": "paperback-quarterly",
   "metadata": {},
   "outputs": [
    {
     "data": {
      "text/plain": [
       "Group       1.000000\n",
       "CDR         0.778049\n",
       "M/F         0.222146\n",
       "SES         0.038870\n",
       "ASF         0.032495\n",
       "Age        -0.005941\n",
       "eTIV       -0.042700\n",
       "Visit      -0.095507\n",
       "MR Delay   -0.120638\n",
       "EDUC       -0.193060\n",
       "nWBV       -0.311346\n",
       "MMSE       -0.520553\n",
       "Name: Group, dtype: float64"
      ]
     },
     "execution_count": 10,
     "metadata": {},
     "output_type": "execute_result"
    }
   ],
   "source": [
    "correlation = df.corr()\n",
    "df_corr = correlation['Group'].sort_values(ascending=False)\n",
    "df_corr"
   ]
  },
  {
   "cell_type": "code",
   "execution_count": 11,
   "id": "greek-lithuania",
   "metadata": {},
   "outputs": [],
   "source": [
    "X = df.copy()\n",
    "y = X.pop(\"Group\")\n",
    "discrete_features = X.dtypes == int"
   ]
  },
  {
   "cell_type": "code",
   "execution_count": 13,
   "id": "unlikely-league",
   "metadata": {},
   "outputs": [
    {
     "data": {
      "text/plain": [
       "CDR         0.479972\n",
       "MMSE        0.250088\n",
       "ASF         0.083019\n",
       "nWBV        0.080035\n",
       "eTIV        0.077055\n",
       "M/F         0.035874\n",
       "EDUC        0.035381\n",
       "SES         0.034782\n",
       "Age         0.021490\n",
       "MR Delay    0.017419\n",
       "Visit       0.000000\n",
       "Name: MI Scores, dtype: float64"
      ]
     },
     "execution_count": 13,
     "metadata": {},
     "output_type": "execute_result"
    }
   ],
   "source": [
    "from sklearn.feature_selection import mutual_info_regression\n",
    "def make_mi_scores(X, y, discrete_features):\n",
    "    mi_scores = mutual_info_regression(X, y, discrete_features=discrete_features)\n",
    "    mi_scores = pd.Series(mi_scores, name=\"MI Scores\", index=X.columns)\n",
    "    mi_scores = mi_scores.sort_values(ascending=False)\n",
    "    return mi_scores\n",
    "\n",
    "mi_scores = make_mi_scores(X, y, discrete_features)\n",
    "mi_scores"
   ]
  },
  {
   "cell_type": "code",
   "execution_count": 14,
   "id": "ultimate-service",
   "metadata": {},
   "outputs": [
    {
     "data": {
      "text/plain": [
       "<AxesSubplot:>"
      ]
     },
     "execution_count": 14,
     "metadata": {},
     "output_type": "execute_result"
    },
    {
     "data": {
      "image/png": "[encoded data removed]",
      "text/plain": [
       "<Figure size 1152x432 with 1 Axes>"
      ]
     },
     "metadata": {
      "needs_background": "light"
     },
     "output_type": "display_data"
    }
   ],
   "source": [
    "mi_scores.sort_values(ascending=False).plot.bar(figsize=(16, 6))"
   ]
  },
  {
   "cell_type": "code",
   "execution_count": 15,
   "id": "optional-salvation",
   "metadata": {},
   "outputs": [
    {
     "data": {
      "text/html": [
       "<div>\n",
       "<style scoped>\n",
       "    .dataframe tbody tr th:only-of-type {\n",
       "        vertical-align: middle;\n",
       "    }\n",
       "\n",
       "    .dataframe tbody tr th {\n",
       "        vertical-align: top;\n",
       "    }\n",
       "\n",
       "    .dataframe thead th {\n",
       "        text-align: right;\n",
       "    }\n",
       "</style>\n",
       "<table border=\"1\" class=\"dataframe\">\n",
       "  <thead>\n",
       "    <tr style=\"text-align: right;\">\n",
       "      <th></th>\n",
       "      <th>Group</th>\n",
       "      <th>M/F</th>\n",
       "      <th>Age</th>\n",
       "      <th>EDUC</th>\n",
       "      <th>SES</th>\n",
       "      <th>MMSE</th>\n",
       "      <th>CDR</th>\n",
       "      <th>eTIV</th>\n",
       "      <th>nWBV</th>\n",
       "      <th>ASF</th>\n",
       "    </tr>\n",
       "  </thead>\n",
       "  <tbody>\n",
       "    <tr>\n",
       "      <th>0</th>\n",
       "      <td>0</td>\n",
       "      <td>1</td>\n",
       "      <td>87</td>\n",
       "      <td>14</td>\n",
       "      <td>2.0</td>\n",
       "      <td>27.0</td>\n",
       "      <td>0.0</td>\n",
       "      <td>1987</td>\n",
       "      <td>0.696</td>\n",
       "      <td>0.883</td>\n",
       "    </tr>\n",
       "    <tr>\n",
       "      <th>1</th>\n",
       "      <td>0</td>\n",
       "      <td>1</td>\n",
       "      <td>88</td>\n",
       "      <td>14</td>\n",
       "      <td>2.0</td>\n",
       "      <td>30.0</td>\n",
       "      <td>0.0</td>\n",
       "      <td>2004</td>\n",
       "      <td>0.681</td>\n",
       "      <td>0.876</td>\n",
       "    </tr>\n",
       "    <tr>\n",
       "      <th>2</th>\n",
       "      <td>1</td>\n",
       "      <td>1</td>\n",
       "      <td>75</td>\n",
       "      <td>12</td>\n",
       "      <td>2.0</td>\n",
       "      <td>23.0</td>\n",
       "      <td>0.5</td>\n",
       "      <td>1678</td>\n",
       "      <td>0.736</td>\n",
       "      <td>1.046</td>\n",
       "    </tr>\n",
       "    <tr>\n",
       "      <th>3</th>\n",
       "      <td>1</td>\n",
       "      <td>1</td>\n",
       "      <td>76</td>\n",
       "      <td>12</td>\n",
       "      <td>2.0</td>\n",
       "      <td>28.0</td>\n",
       "      <td>0.5</td>\n",
       "      <td>1738</td>\n",
       "      <td>0.713</td>\n",
       "      <td>1.010</td>\n",
       "    </tr>\n",
       "    <tr>\n",
       "      <th>4</th>\n",
       "      <td>1</td>\n",
       "      <td>1</td>\n",
       "      <td>80</td>\n",
       "      <td>12</td>\n",
       "      <td>2.0</td>\n",
       "      <td>22.0</td>\n",
       "      <td>0.5</td>\n",
       "      <td>1698</td>\n",
       "      <td>0.701</td>\n",
       "      <td>1.034</td>\n",
       "    </tr>\n",
       "    <tr>\n",
       "      <th>...</th>\n",
       "      <td>...</td>\n",
       "      <td>...</td>\n",
       "      <td>...</td>\n",
       "      <td>...</td>\n",
       "      <td>...</td>\n",
       "      <td>...</td>\n",
       "      <td>...</td>\n",
       "      <td>...</td>\n",
       "      <td>...</td>\n",
       "      <td>...</td>\n",
       "    </tr>\n",
       "    <tr>\n",
       "      <th>368</th>\n",
       "      <td>1</td>\n",
       "      <td>1</td>\n",
       "      <td>82</td>\n",
       "      <td>16</td>\n",
       "      <td>1.0</td>\n",
       "      <td>28.0</td>\n",
       "      <td>0.5</td>\n",
       "      <td>1693</td>\n",
       "      <td>0.694</td>\n",
       "      <td>1.037</td>\n",
       "    </tr>\n",
       "    <tr>\n",
       "      <th>369</th>\n",
       "      <td>1</td>\n",
       "      <td>1</td>\n",
       "      <td>86</td>\n",
       "      <td>16</td>\n",
       "      <td>1.0</td>\n",
       "      <td>26.0</td>\n",
       "      <td>0.5</td>\n",
       "      <td>1688</td>\n",
       "      <td>0.675</td>\n",
       "      <td>1.040</td>\n",
       "    </tr>\n",
       "    <tr>\n",
       "      <th>370</th>\n",
       "      <td>0</td>\n",
       "      <td>0</td>\n",
       "      <td>61</td>\n",
       "      <td>13</td>\n",
       "      <td>2.0</td>\n",
       "      <td>30.0</td>\n",
       "      <td>0.0</td>\n",
       "      <td>1319</td>\n",
       "      <td>0.801</td>\n",
       "      <td>1.331</td>\n",
       "    </tr>\n",
       "    <tr>\n",
       "      <th>371</th>\n",
       "      <td>0</td>\n",
       "      <td>0</td>\n",
       "      <td>63</td>\n",
       "      <td>13</td>\n",
       "      <td>2.0</td>\n",
       "      <td>30.0</td>\n",
       "      <td>0.0</td>\n",
       "      <td>1327</td>\n",
       "      <td>0.796</td>\n",
       "      <td>1.323</td>\n",
       "    </tr>\n",
       "    <tr>\n",
       "      <th>372</th>\n",
       "      <td>0</td>\n",
       "      <td>0</td>\n",
       "      <td>65</td>\n",
       "      <td>13</td>\n",
       "      <td>2.0</td>\n",
       "      <td>30.0</td>\n",
       "      <td>0.0</td>\n",
       "      <td>1333</td>\n",
       "      <td>0.801</td>\n",
       "      <td>1.317</td>\n",
       "    </tr>\n",
       "  </tbody>\n",
       "</table>\n",
       "<p>373 rows × 10 columns</p>\n",
       "</div>"
      ],
      "text/plain": [
       "     Group  M/F  Age  EDUC  SES  MMSE  CDR  eTIV   nWBV    ASF\n",
       "0        0    1   87    14  2.0  27.0  0.0  1987  0.696  0.883\n",
       "1        0    1   88    14  2.0  30.0  0.0  2004  0.681  0.876\n",
       "2        1    1   75    12  2.0  23.0  0.5  1678  0.736  1.046\n",
       "3        1    1   76    12  2.0  28.0  0.5  1738  0.713  1.010\n",
       "4        1    1   80    12  2.0  22.0  0.5  1698  0.701  1.034\n",
       "..     ...  ...  ...   ...  ...   ...  ...   ...    ...    ...\n",
       "368      1    1   82    16  1.0  28.0  0.5  1693  0.694  1.037\n",
       "369      1    1   86    16  1.0  26.0  0.5  1688  0.675  1.040\n",
       "370      0    0   61    13  2.0  30.0  0.0  1319  0.801  1.331\n",
       "371      0    0   63    13  2.0  30.0  0.0  1327  0.796  1.323\n",
       "372      0    0   65    13  2.0  30.0  0.0  1333  0.801  1.317\n",
       "\n",
       "[373 rows x 10 columns]"
      ]
     },
     "execution_count": 15,
     "metadata": {},
     "output_type": "execute_result"
    }
   ],
   "source": [
    " #we will drop MR delay column\n",
    "df.drop(columns=['MR Delay' , 'Visit'])"
   ]
  },
  {
   "cell_type": "code",
   "execution_count": 16,
   "id": "champion-hybrid",
   "metadata": {},
   "outputs": [
    {
     "data": {
      "text/plain": [
       "<AxesSubplot:xlabel='M/F', ylabel='CDR'>"
      ]
     },
     "execution_count": 16,
     "metadata": {},
     "output_type": "execute_result"
    },
    {
     "data": {
      "image/png": "[encoded data removed]",
      "text/plain": [
       "<Figure size 432x288 with 1 Axes>"
      ]
     },
     "metadata": {
      "needs_background": "light"
     },
     "output_type": "display_data"
    }
   ],
   "source": [
    "import matplotlib.pyplot as plt\n",
    "import seaborn as sns\n",
    "sns.violinplot(x=\"M/F\" , y=\"CDR\",kind='swarm', data = df)"
   ]
  },
  {
   "cell_type": "code",
   "execution_count": 17,
   "id": "future-stomach",
   "metadata": {},
   "outputs": [],
   "source": [
    "from sklearn.model_selection import train_test_split \n",
    "y = df['Group'].values\n",
    "X = df[['M/F', 'Age', 'EDUC','MMSE', 'SES', 'eTIV', 'nWBV', 'ASF']].values\n"
   ]
  },
  {
   "cell_type": "code",
   "execution_count": 18,
   "id": "comprehensive-elizabeth",
   "metadata": {},
   "outputs": [
    {
     "name": "stdout",
     "output_type": "stream",
     "text": [
      "In Training Split:\n",
      "0    152\n",
      "1    146\n",
      "Name: 0, dtype: int64\n",
      "\n",
      "In Testing Split:\n",
      "0    38\n",
      "1    37\n",
      "Name: 0, dtype: int64\n"
     ]
    }
   ],
   "source": [
    "X_trainval, X_test, y_trainval, y_test = train_test_split(X, y, test_size= 0.20, random_state=42, stratify=y)\n",
    "\n",
    "df_ytrain = pd.DataFrame(y_trainval)\n",
    "df_ytest = pd.DataFrame(y_test)\n",
    "\n",
    "print('In Training Split:')\n",
    "print(df_ytrain[0].value_counts())\n",
    "\n",
    "print('\\nIn Testing Split:')\n",
    "print(df_ytest[0].value_counts())"
   ]
  },
  {
   "cell_type": "code",
   "execution_count": 19,
   "id": "secondary-bangkok",
   "metadata": {},
   "outputs": [],
   "source": [
    "from sklearn.preprocessing import StandardScaler, MinMaxScaler, RobustScaler\n",
    "from sklearn.model_selection import cross_val_score\n",
    "from sklearn.impute import SimpleImputer\n",
    "scaler = StandardScaler().fit(X_trainval)\n",
    "#scaler = MinMaxScaler().fit(X_trainval)\n",
    "#scaler = RobustScaler().fit(X_trainval)\n",
    "X_trainval_scaled = scaler.transform(X_trainval)\n",
    "X_test_scaled = scaler.transform(X_test)"
   ]
  },
  {
   "cell_type": "code",
   "execution_count": 79,
   "id": "included-incidence",
   "metadata": {},
   "outputs": [
    {
     "name": "stdout",
     "output_type": "stream",
     "text": [
      "Train accuracy  0.8590604026845637\n",
      "Test accuracy  0.7466666666666667\n",
      "Test recall 0.5945945945945946\n",
      "Test AUC 0.744665718349929\n"
     ]
    }
   ],
   "source": [
    "from sklearn.svm import SVC \n",
    "clf_svm = SVC(random_state=42)\n",
    "clf_svm.fit(X_trainval_scaled, y_trainval)\n",
    "from sklearn.metrics import confusion_matrix, precision_score, accuracy_score, recall_score, roc_curve, auc\n",
    "train_score = 0\n",
    "test_score = 0\n",
    "test_recall = 0\n",
    "test_auc = 0\n",
    "\n",
    "train_score = clf_svm.score(X_trainval_scaled, y_trainval)\n",
    "test_score = clf_svm.score(X_test_scaled, y_test)\n",
    "y_predict = clf_svm.predict(X_test_scaled)\n",
    "test_recall = recall_score(y_test, y_predict)\n",
    "fpr, tpr, thresholds = roc_curve(y_test, y_predict)\n",
    "test_auc = auc(fpr, tpr)\n",
    "print(\"Train accuracy \", train_score)\n",
    "print(\"Test accuracy \", test_score)\n",
    "print(\"Test recall\", test_recall)\n",
    "print(\"Test AUC\", test_auc)"
   ]
  },
  {
   "cell_type": "code",
   "execution_count": 81,
   "id": "gothic-boston",
   "metadata": {},
   "outputs": [
    {
     "name": "stdout",
     "output_type": "stream",
     "text": [
      "{'C': 6, 'gamma': 1, 'kernel': 'rbf'}\n"
     ]
    }
   ],
   "source": [
    "param_grid = [\n",
    "\n",
    "    {'C': [0.5, 1, 2, 3, 4, 5, 6, 7, 8, 9, 10, 30, 50, 80, 100],\n",
    "    'gamma': ['scale', 0.5, 1, 0.1, 0.01, 0.001, 0.0001, 0.00001],\n",
    "    'kernel': ['rbf', 'linear', 'poly', 'sigmoid']},\n",
    "]\n",
    "\n",
    "optimal_params = GridSearchCV(SVC(),\n",
    "                             param_grid,\n",
    "                             cv=5, # we are taking 5-fold as in k-fold cross validation\n",
    "                             scoring='accuracy', # try the other scoring if have time\n",
    "                             verbose=0,\n",
    "                             n_jobs=-1)\n",
    "\n",
    "optimal_params.fit(X_trainval_scaled, y_trainval)\n",
    "print(optimal_params.best_params_)"
   ]
  },
  {
   "cell_type": "code",
   "execution_count": 82,
   "id": "casual-sapphire",
   "metadata": {},
   "outputs": [],
   "source": [
    "C = optimal_params.best_params_['C']\n",
    "gamma = optimal_params.best_params_['gamma']\n",
    "kernel = optimal_params.best_params_['kernel']"
   ]
  },
  {
   "cell_type": "code",
   "execution_count": 83,
   "id": "average-depth",
   "metadata": {},
   "outputs": [
    {
     "data": {
      "text/plain": [
       "SVC(C=6, gamma=1, random_state=42)"
      ]
     },
     "execution_count": 83,
     "metadata": {},
     "output_type": "execute_result"
    }
   ],
   "source": [
    "clf_svm = SVC(random_state=42, C=C, gamma=gamma, kernel=kernel)\n",
    "clf_svm.fit(X_trainval_scaled, y_trainval)"
   ]
  },
  {
   "cell_type": "code",
   "execution_count": 84,
   "id": "aquatic-amber",
   "metadata": {},
   "outputs": [
    {
     "name": "stdout",
     "output_type": "stream",
     "text": [
      "Train accuracy  1.0\n",
      "Test accuracy  0.92\n",
      "Test recall 0.918918918918919\n",
      "Test AUC 0.9199857752489331\n"
     ]
    }
   ],
   "source": [
    "train_score = 0\n",
    "test_score = 0\n",
    "test_recall = 0\n",
    "test_auc = 0\n",
    "\n",
    "train_score = clf_svm.score(X_trainval_scaled, y_trainval)\n",
    "test_score = clf_svm.score(X_test_scaled, y_test)\n",
    "y_predict = clf_svm.predict(X_test_scaled)\n",
    "\n",
    "test_recall = recall_score(y_test, y_predict)\n",
    "svm_fpr, svm_tpr, thresholds = roc_curve(y_test, y_predict)\n",
    "test_auc = auc(svm_fpr, svm_tpr)\n",
    "\n",
    "print(\"Train accuracy \", train_score)\n",
    "print(\"Test accuracy \", test_score)\n",
    "print(\"Test recall\", test_recall)\n",
    "print(\"Test AUC\", test_auc)"
   ]
  },
  {
   "cell_type": "code",
   "execution_count": 50,
   "id": "civil-greenhouse",
   "metadata": {},
   "outputs": [
    {
     "name": "stdout",
     "output_type": "stream",
     "text": [
      "Fitting 10 folds for each of 100 candidates, totalling 1000 fits\n"
     ]
    },
    {
     "data": {
      "text/plain": [
       "RandomizedSearchCV(cv=10, estimator=RandomForestClassifier(n_jobs=-1),\n",
       "                   n_iter=100, n_jobs=-1,\n",
       "                   param_distributions={'max_depth': range(1, 40),\n",
       "                                        'max_features': ['auto', 'sqrt'],\n",
       "                                        'min_samples_split': range(3, 60),\n",
       "                                        'n_estimators': range(10, 250)},\n",
       "                   random_state=42, scoring='neg_mean_absolute_error',\n",
       "                   verbose=2)"
      ]
     },
     "execution_count": 50,
     "metadata": {},
     "output_type": "execute_result"
    }
   ],
   "source": [
    "from sklearn.ensemble import (RandomForestClassifier, AdaBoostClassifier, \n",
    "                              GradientBoostingClassifier, ExtraTreesClassifier)\n",
    "from sklearn.model_selection import RandomizedSearchCV\n",
    "FOLDS =10\n",
    "model_forest = RandomForestClassifier(n_jobs=-1)\n",
    "forest_random = RandomizedSearchCV(estimator = model_forest, param_distributions = parametro_rf, n_iter = 100, cv = FOLDS, \n",
    "                               verbose=2, random_state=42, n_jobs = -1, scoring='neg_mean_absolute_error')\n",
    "forest_random.fit(X_trainval_scaled, y_trainval)"
   ]
  },
  {
   "cell_type": "code",
   "execution_count": 51,
   "id": "military-hospital",
   "metadata": {},
   "outputs": [
    {
     "data": {
      "text/plain": [
       "{'n_estimators': 46,\n",
       " 'min_samples_split': 3,\n",
       " 'max_features': 'sqrt',\n",
       " 'max_depth': 20}"
      ]
     },
     "execution_count": 51,
     "metadata": {},
     "output_type": "execute_result"
    }
   ],
   "source": [
    "forest_random.best_params_"
   ]
  },
  {
   "cell_type": "code",
   "execution_count": 52,
   "id": "processed-disorder",
   "metadata": {},
   "outputs": [
    {
     "data": {
      "text/plain": [
       "RandomForestClassifier(max_depth=37, max_features='sqrt', min_samples_split=8,\n",
       "                       n_estimators=60)"
      ]
     },
     "execution_count": 52,
     "metadata": {},
     "output_type": "execute_result"
    }
   ],
   "source": [
    "model_rf = forest_random.best_estimator_\n",
    "model_rf =  RandomForestClassifier(n_estimators=60,min_samples_split=8,max_features='sqrt',max_depth= 37)\n",
    "model_rf.fit(X_trainval_scaled,y_trainval)"
   ]
  },
  {
   "cell_type": "code",
   "execution_count": 53,
   "id": "aerial-string",
   "metadata": {},
   "outputs": [],
   "source": [
    "Predicted_rf= model_rf.predict(X_test_scaled)\n",
    "test_recall = recall_score(y_test, Predicted_rf, pos_label=1)\n",
    "fpr, tpr, thresholds = roc_curve(y_test, Predicted_rf, pos_label=1)\n",
    "test_auc = auc(fpr, tpr)"
   ]
  },
  {
   "cell_type": "code",
   "execution_count": 64,
   "id": "center-classic",
   "metadata": {},
   "outputs": [
    {
     "name": "stdout",
     "output_type": "stream",
     "text": [
      "Test accuracy  0.8355172413793104\n",
      "Test recall 0.6216216216216216\n",
      "Test AUC 0.7450213371266002\n"
     ]
    }
   ],
   "source": [
    "acc = []\n",
    "model='Random Forest'\n",
    "test_score = cross_val_score(model_rf, X_trainval_scaled, y_trainval, cv=FOLDS, scoring='accuracy').mean() # Get recall for each parameter setting\n",
    "test_recall = recall_score(y_test, Predicted_rf, pos_label=1)\n",
    "fpr, tpr, thresholds = roc_curve(y_test, Predicted_rf, pos_label=1)\n",
    "test_auc = auc(fpr, tpr)\n",
    "#acc.append([model,test_score, test_recall, test_auc])\n",
    "#print(acc)\n",
    "#print(\"Train accuracy \", train_score)\n",
    "print(\"Test accuracy \", test_score)\n",
    "print(\"Test recall\", test_recall)\n",
    "print(\"Test AUC\", test_auc)"
   ]
  },
  {
   "cell_type": "code",
   "execution_count": 29,
   "id": "partial-rendering",
   "metadata": {},
   "outputs": [
    {
     "name": "stdout",
     "output_type": "stream",
     "text": [
      "ExtraTreesClassifier : \n"
     ]
    },
    {
     "data": {
      "image/png": "[encoded data removed]",
      "text/plain": [
       "<Figure size 432x288 with 1 Axes>"
      ]
     },
     "metadata": {
      "needs_background": "light"
     },
     "output_type": "display_data"
    },
    {
     "name": "stdout",
     "output_type": "stream",
     "text": [
      "\n",
      "Acuuracy Of the Model:  0.8666666666666667 \n",
      "\n",
      "\n"
     ]
    }
   ],
   "source": [
    "#from sklearn.model_selection import RandomizedSearchCV\n",
    "from sklearn import metrics\n",
    "total_accuracy = {}\n",
    "def accuracy(model):\n",
    "    pred = model.predict(X_test_scaled)\n",
    "    accu = metrics.accuracy_score(y_test,pred)\n",
    "    print(\"\\nAcuuracy Of the Model: \",accu,\"\\n\\n\")\n",
    "    total_accuracy[str((str(model).split('(')[0]))] = accu\n",
    "    \n",
    "total_fpr = {}\n",
    "total_tpr = {}\n",
    "def roc_curves(model):\n",
    "    predictions_test = model.predict(X_test_scaled)\n",
    "    fpr, tpr, thresholds = roc_curve(predictions_test,y_test)\n",
    "    roc_auc = auc(fpr, tpr)\n",
    "    total_fpr[str((str(model).split('(')[0]))] = fpr\n",
    "    total_tpr[str((str(model).split('(')[0]))] = tpr\n",
    "    plt.figure()\n",
    "    plt.plot(fpr, tpr, color='darkorange', lw=1, label='ROC curve (area = %0.2f)' % roc_auc)\n",
    "    plt.plot([0, 1], [0, 1], color='navy', lw=2, linestyle='--')\n",
    "    plt.xlim([0.0, 1.0])\n",
    "    plt.ylim([0.0, 1.05])\n",
    "    plt.xlabel('False Positive Rate')\n",
    "    plt.ylabel('True Positive Rate')\n",
    "    plt.title('Receiver operating characteristic')\n",
    "    plt.legend(loc=\"lower right\")\n",
    "    plt.show()\n",
    "\n",
    "from sklearn.ensemble import ExtraTreesClassifier\n",
    "from sklearn.tree import ExtraTreeClassifier\n",
    "model = ExtraTreesClassifier()\n",
    "print(str(model).split('(')[0],\": \")\n",
    "model.fit(X_trainval_scaled,y_trainval.ravel())\n",
    "X = pd.DataFrame(X_trainval_scaled)\n",
    "#report_performance(model)\n",
    "roc_curves(model)\n",
    "accuracy(model)"
   ]
  },
  {
   "cell_type": "code",
   "execution_count": 56,
   "id": "desirable-hydrogen",
   "metadata": {},
   "outputs": [],
   "source": [
    "import pandas as pd\n",
    "from tensorflow import keras\n",
    "from tensorflow.keras import layers\n",
    "from kerastuner.tuners import RandomSearch"
   ]
  },
  {
   "cell_type": "code",
   "execution_count": 59,
   "id": "adaptive-hollow",
   "metadata": {},
   "outputs": [],
   "source": [
    "def build_model(hp):\n",
    "    model = keras.Sequential()\n",
    "    for i in range(hp.Int('num_layers', 2, 20)):\n",
    "        model.add(layers.Dense(units=hp.Int('units_' + str(i),\n",
    "                                            min_value=32,\n",
    "                                            max_value=512,\n",
    "                                            step=32),\n",
    "                               activation='relu'))\n",
    "    model.add(layers.Dense(1, activation='linear'))\n",
    "    model.compile(\n",
    "        optimizer=keras.optimizers.Adam(\n",
    "            hp.Choice('learning_rate', [1e-2, 1e-3, 1e-4])),\n",
    "        loss='mean_absolute_error',\n",
    "        metrics=['mean_absolute_error'])\n",
    "    return model"
   ]
  },
  {
   "cell_type": "code",
   "execution_count": 61,
   "id": "hollow-illustration",
   "metadata": {},
   "outputs": [],
   "source": [
    "tuner = RandomSearch(\n",
    "    build_model,\n",
    "    objective='val_mean_absolute_error',\n",
    "    max_trials=5,\n",
    "    executions_per_trial=3,\n",
    "    directory='project',\n",
    "    project_name='Dementia')"
   ]
  },
  {
   "cell_type": "code",
   "execution_count": 62,
   "id": "right-plenty",
   "metadata": {},
   "outputs": [
    {
     "name": "stdout",
     "output_type": "stream",
     "text": [
      "Search space summary\n",
      "Default search space size: 4\n",
      "num_layers (Int)\n",
      "{'default': None, 'conditions': [], 'min_value': 2, 'max_value': 20, 'step': 1, 'sampling': None}\n",
      "units_0 (Int)\n",
      "{'default': None, 'conditions': [], 'min_value': 32, 'max_value': 512, 'step': 32, 'sampling': None}\n",
      "units_1 (Int)\n",
      "{'default': None, 'conditions': [], 'min_value': 32, 'max_value': 512, 'step': 32, 'sampling': None}\n",
      "learning_rate (Choice)\n",
      "{'default': 0.01, 'conditions': [], 'values': [0.01, 0.001, 0.0001], 'ordered': True}\n"
     ]
    }
   ],
   "source": [
    "tuner.search_space_summary()\n"
   ]
  },
  {
   "cell_type": "code",
   "execution_count": 63,
   "id": "encouraging-classification",
   "metadata": {},
   "outputs": [
    {
     "name": "stdout",
     "output_type": "stream",
     "text": [
      "Trial 5 Complete [00h 00m 07s]\n",
      "val_mean_absolute_error: 0.30615828434626263\n",
      "\n",
      "Best val_mean_absolute_error So Far: 0.29355305433273315\n",
      "Total elapsed time: 00h 00m 55s\n",
      "INFO:tensorflow:Oracle triggered exit\n"
     ]
    }
   ],
   "source": [
    "tuner.search(X_trainval_scaled, y_trainval,\n",
    "             epochs=5,\n",
    "             validation_data=(X_test_scaled, y_test))"
   ]
  },
  {
   "cell_type": "code",
   "execution_count": 64,
   "id": "thrown-azerbaijan",
   "metadata": {},
   "outputs": [
    {
     "name": "stdout",
     "output_type": "stream",
     "text": [
      "Results summary\n",
      "Results in project\\Dementia\n",
      "Showing 10 best trials\n",
      "Objective(name='val_mean_absolute_error', direction='min')\n",
      "Trial summary\n",
      "Hyperparameters:\n",
      "num_layers: 3\n",
      "units_0: 128\n",
      "units_1: 288\n",
      "learning_rate: 0.001\n",
      "units_2: 128\n",
      "units_3: 384\n",
      "units_4: 96\n",
      "units_5: 32\n",
      "units_6: 128\n",
      "units_7: 352\n",
      "units_8: 352\n",
      "units_9: 256\n",
      "units_10: 192\n",
      "units_11: 256\n",
      "units_12: 224\n",
      "units_13: 352\n",
      "units_14: 160\n",
      "units_15: 512\n",
      "units_16: 416\n",
      "units_17: 128\n",
      "units_18: 32\n",
      "units_19: 512\n",
      "Score: 0.29355305433273315\n",
      "Trial summary\n",
      "Hyperparameters:\n",
      "num_layers: 8\n",
      "units_0: 480\n",
      "units_1: 288\n",
      "learning_rate: 0.01\n",
      "units_2: 192\n",
      "units_3: 256\n",
      "units_4: 224\n",
      "units_5: 64\n",
      "units_6: 96\n",
      "units_7: 288\n",
      "units_8: 96\n",
      "units_9: 256\n",
      "units_10: 416\n",
      "units_11: 128\n",
      "units_12: 32\n",
      "units_13: 32\n",
      "units_14: 256\n",
      "units_15: 320\n",
      "units_16: 480\n",
      "units_17: 384\n",
      "units_18: 224\n",
      "units_19: 480\n",
      "Score: 0.30615828434626263\n",
      "Trial summary\n",
      "Hyperparameters:\n",
      "num_layers: 16\n",
      "units_0: 224\n",
      "units_1: 416\n",
      "learning_rate: 0.001\n",
      "units_2: 384\n",
      "units_3: 96\n",
      "units_4: 480\n",
      "units_5: 256\n",
      "units_6: 416\n",
      "units_7: 320\n",
      "units_8: 512\n",
      "units_9: 256\n",
      "units_10: 224\n",
      "units_11: 480\n",
      "units_12: 288\n",
      "units_13: 352\n",
      "units_14: 416\n",
      "units_15: 192\n",
      "units_16: 96\n",
      "units_17: 288\n",
      "units_18: 480\n",
      "units_19: 448\n",
      "Score: 0.33405404289563495\n",
      "Trial summary\n",
      "Hyperparameters:\n",
      "num_layers: 20\n",
      "units_0: 288\n",
      "units_1: 32\n",
      "learning_rate: 0.001\n",
      "units_2: 32\n",
      "units_3: 32\n",
      "units_4: 32\n",
      "units_5: 32\n",
      "units_6: 32\n",
      "units_7: 32\n",
      "units_8: 32\n",
      "units_9: 32\n",
      "units_10: 32\n",
      "units_11: 32\n",
      "units_12: 32\n",
      "units_13: 32\n",
      "units_14: 32\n",
      "units_15: 32\n",
      "units_16: 32\n",
      "units_17: 32\n",
      "units_18: 32\n",
      "units_19: 32\n",
      "Score: 0.4215697745482127\n",
      "Trial summary\n",
      "Hyperparameters:\n",
      "num_layers: 17\n",
      "units_0: 96\n",
      "units_1: 512\n",
      "learning_rate: 0.01\n",
      "units_2: 480\n",
      "units_3: 128\n",
      "units_4: 480\n",
      "units_5: 256\n",
      "units_6: 96\n",
      "units_7: 416\n",
      "units_8: 416\n",
      "units_9: 416\n",
      "units_10: 288\n",
      "units_11: 256\n",
      "units_12: 224\n",
      "units_13: 256\n",
      "units_14: 192\n",
      "units_15: 448\n",
      "units_16: 288\n",
      "units_17: 128\n",
      "units_18: 352\n",
      "units_19: 224\n",
      "Score: 0.4940047760804494\n"
     ]
    }
   ],
   "source": [
    "tuner.results_summary()"
   ]
  },
  {
   "cell_type": "code",
   "execution_count": 76,
   "id": "higher-appendix",
   "metadata": {},
   "outputs": [
    {
     "name": "stdout",
     "output_type": "stream",
     "text": [
      "Epoch 1/100\n",
      "10/10 [==============================] - 1s 2ms/step - loss: 0.6588 - accuracy: 0.5919\n",
      "Epoch 2/100\n",
      "10/10 [==============================] - 0s 2ms/step - loss: 0.5179 - accuracy: 0.7894\n",
      "Epoch 3/100\n",
      "10/10 [==============================] - 0s 2ms/step - loss: 0.4533 - accuracy: 0.7886\n",
      "Epoch 4/100\n",
      "10/10 [==============================] - 0s 2ms/step - loss: 0.4045 - accuracy: 0.8097\n",
      "Epoch 5/100\n",
      "10/10 [==============================] - 0s 3ms/step - loss: 0.3698 - accuracy: 0.8381\n",
      "Epoch 6/100\n",
      "10/10 [==============================] - 0s 3ms/step - loss: 0.3489 - accuracy: 0.8726\n",
      "Epoch 7/100\n",
      "10/10 [==============================] - 0s 3ms/step - loss: 0.3227 - accuracy: 0.8816\n",
      "Epoch 8/100\n",
      "10/10 [==============================] - 0s 3ms/step - loss: 0.2960 - accuracy: 0.8772\n",
      "Epoch 9/100\n",
      "10/10 [==============================] - 0s 2ms/step - loss: 0.2771 - accuracy: 0.8952\n",
      "Epoch 10/100\n",
      "10/10 [==============================] - 0s 2ms/step - loss: 0.2824 - accuracy: 0.8788\n",
      "Epoch 11/100\n",
      "10/10 [==============================] - 0s 2ms/step - loss: 0.3072 - accuracy: 0.8649\n",
      "Epoch 12/100\n",
      "10/10 [==============================] - 0s 2ms/step - loss: 0.2674 - accuracy: 0.9005\n",
      "Epoch 13/100\n",
      "10/10 [==============================] - 0s 2ms/step - loss: 0.2469 - accuracy: 0.8850\n",
      "Epoch 14/100\n",
      "10/10 [==============================] - 0s 3ms/step - loss: 0.2725 - accuracy: 0.8893\n",
      "Epoch 15/100\n",
      "10/10 [==============================] - 0s 2ms/step - loss: 0.2554 - accuracy: 0.9050\n",
      "Epoch 16/100\n",
      "10/10 [==============================] - 0s 2ms/step - loss: 0.2542 - accuracy: 0.8865\n",
      "Epoch 17/100\n",
      "10/10 [==============================] - 0s 2ms/step - loss: 0.2292 - accuracy: 0.9073\n",
      "Epoch 18/100\n",
      "10/10 [==============================] - 0s 2ms/step - loss: 0.2492 - accuracy: 0.9006\n",
      "Epoch 19/100\n",
      "10/10 [==============================] - 0s 3ms/step - loss: 0.2621 - accuracy: 0.8699\n",
      "Epoch 20/100\n",
      "10/10 [==============================] - 0s 2ms/step - loss: 0.2119 - accuracy: 0.9064\n",
      "Epoch 21/100\n",
      "10/10 [==============================] - 0s 2ms/step - loss: 0.2382 - accuracy: 0.9164\n",
      "Epoch 22/100\n",
      "10/10 [==============================] - 0s 2ms/step - loss: 0.2249 - accuracy: 0.9146\n",
      "Epoch 23/100\n",
      "10/10 [==============================] - 0s 3ms/step - loss: 0.2298 - accuracy: 0.8886\n",
      "Epoch 24/100\n",
      "10/10 [==============================] - 0s 2ms/step - loss: 0.2214 - accuracy: 0.9194\n",
      "Epoch 25/100\n",
      "10/10 [==============================] - 0s 2ms/step - loss: 0.1963 - accuracy: 0.9271\n",
      "Epoch 26/100\n",
      "10/10 [==============================] - 0s 2ms/step - loss: 0.1871 - accuracy: 0.9406\n",
      "Epoch 27/100\n",
      "10/10 [==============================] - 0s 2ms/step - loss: 0.1631 - accuracy: 0.9354\n",
      "Epoch 28/100\n",
      "10/10 [==============================] - 0s 2ms/step - loss: 0.1967 - accuracy: 0.9177\n",
      "Epoch 29/100\n",
      "10/10 [==============================] - 0s 2ms/step - loss: 0.1689 - accuracy: 0.9357\n",
      "Epoch 30/100\n",
      "10/10 [==============================] - 0s 3ms/step - loss: 0.2010 - accuracy: 0.9186\n",
      "Epoch 31/100\n",
      "10/10 [==============================] - 0s 2ms/step - loss: 0.1761 - accuracy: 0.9311\n",
      "Epoch 32/100\n",
      "10/10 [==============================] - 0s 3ms/step - loss: 0.1700 - accuracy: 0.9366\n",
      "Epoch 33/100\n",
      "10/10 [==============================] - 0s 2ms/step - loss: 0.2008 - accuracy: 0.9163\n",
      "Epoch 34/100\n",
      "10/10 [==============================] - 0s 2ms/step - loss: 0.1611 - accuracy: 0.9361\n",
      "Epoch 35/100\n",
      "10/10 [==============================] - 0s 2ms/step - loss: 0.1533 - accuracy: 0.9589\n",
      "Epoch 36/100\n",
      "10/10 [==============================] - 0s 2ms/step - loss: 0.1526 - accuracy: 0.9393\n",
      "Epoch 37/100\n",
      "10/10 [==============================] - 0s 2ms/step - loss: 0.1578 - accuracy: 0.9448\n",
      "Epoch 38/100\n",
      "10/10 [==============================] - 0s 2ms/step - loss: 0.1375 - accuracy: 0.9538\n",
      "Epoch 39/100\n",
      "10/10 [==============================] - 0s 2ms/step - loss: 0.1556 - accuracy: 0.9477\n",
      "Epoch 40/100\n",
      "10/10 [==============================] - 0s 2ms/step - loss: 0.1380 - accuracy: 0.9548\n",
      "Epoch 41/100\n",
      "10/10 [==============================] - 0s 2ms/step - loss: 0.1577 - accuracy: 0.9454\n",
      "Epoch 42/100\n",
      "10/10 [==============================] - 0s 2ms/step - loss: 0.1430 - accuracy: 0.9370\n",
      "Epoch 43/100\n",
      "10/10 [==============================] - 0s 4ms/step - loss: 0.1300 - accuracy: 0.9635\n",
      "Epoch 44/100\n",
      "10/10 [==============================] - ETA: 0s - loss: 0.1156 - accuracy: 0.96 - 0s 3ms/step - loss: 0.1249 - accuracy: 0.9544\n",
      "Epoch 45/100\n",
      "10/10 [==============================] - 0s 3ms/step - loss: 0.1078 - accuracy: 0.9725\n",
      "Epoch 46/100\n",
      "10/10 [==============================] - 0s 2ms/step - loss: 0.1247 - accuracy: 0.9670\n",
      "Epoch 47/100\n",
      "10/10 [==============================] - 0s 2ms/step - loss: 0.1303 - accuracy: 0.9567\n",
      "Epoch 48/100\n",
      "10/10 [==============================] - 0s 2ms/step - loss: 0.1180 - accuracy: 0.9652\n",
      "Epoch 49/100\n",
      "10/10 [==============================] - 0s 3ms/step - loss: 0.1418 - accuracy: 0.9489\n",
      "Epoch 50/100\n",
      "10/10 [==============================] - 0s 2ms/step - loss: 0.1207 - accuracy: 0.9683\n",
      "Epoch 51/100\n",
      "10/10 [==============================] - 0s 2ms/step - loss: 0.1205 - accuracy: 0.9689\n",
      "Epoch 52/100\n",
      "10/10 [==============================] - 0s 3ms/step - loss: 0.0945 - accuracy: 0.9781\n",
      "Epoch 53/100\n",
      "10/10 [==============================] - 0s 2ms/step - loss: 0.1123 - accuracy: 0.9709\n",
      "Epoch 54/100\n",
      "10/10 [==============================] - 0s 2ms/step - loss: 0.1051 - accuracy: 0.9760\n",
      "Epoch 55/100\n",
      "10/10 [==============================] - 0s 2ms/step - loss: 0.0960 - accuracy: 0.9854\n",
      "Epoch 56/100\n",
      "10/10 [==============================] - 0s 2ms/step - loss: 0.0934 - accuracy: 0.9854\n",
      "Epoch 57/100\n",
      "10/10 [==============================] - 0s 2ms/step - loss: 0.0859 - accuracy: 0.9817\n",
      "Epoch 58/100\n",
      "10/10 [==============================] - 0s 2ms/step - loss: 0.1010 - accuracy: 0.9775\n",
      "Epoch 59/100\n",
      "10/10 [==============================] - 0s 2ms/step - loss: 0.0815 - accuracy: 0.9930\n",
      "Epoch 60/100\n",
      "10/10 [==============================] - 0s 2ms/step - loss: 0.0919 - accuracy: 0.9815\n",
      "Epoch 61/100\n",
      "10/10 [==============================] - 0s 2ms/step - loss: 0.0727 - accuracy: 0.9944\n",
      "Epoch 62/100\n",
      "10/10 [==============================] - 0s 2ms/step - loss: 0.0707 - accuracy: 0.9872\n",
      "Epoch 63/100\n",
      "10/10 [==============================] - 0s 2ms/step - loss: 0.0857 - accuracy: 0.9754\n",
      "Epoch 64/100\n",
      "10/10 [==============================] - 0s 2ms/step - loss: 0.0701 - accuracy: 0.9857\n",
      "Epoch 65/100\n",
      "10/10 [==============================] - 0s 2ms/step - loss: 0.0659 - accuracy: 0.9886\n",
      "Epoch 66/100\n",
      "10/10 [==============================] - 0s 3ms/step - loss: 0.0865 - accuracy: 0.9707\n",
      "Epoch 67/100\n",
      "10/10 [==============================] - 0s 2ms/step - loss: 0.0754 - accuracy: 0.9786\n",
      "Epoch 68/100\n",
      "10/10 [==============================] - ETA: 0s - loss: 0.1008 - accuracy: 1.00 - 0s 3ms/step - loss: 0.0777 - accuracy: 0.9836\n",
      "Epoch 69/100\n",
      "10/10 [==============================] - 0s 2ms/step - loss: 0.0710 - accuracy: 0.9826\n",
      "Epoch 70/100\n",
      "10/10 [==============================] - 0s 2ms/step - loss: 0.0555 - accuracy: 0.9855\n",
      "Epoch 71/100\n",
      "10/10 [==============================] - 0s 3ms/step - loss: 0.0658 - accuracy: 0.9840\n",
      "Epoch 72/100\n",
      "10/10 [==============================] - 0s 2ms/step - loss: 0.0642 - accuracy: 0.9852\n",
      "Epoch 73/100\n",
      "10/10 [==============================] - 0s 2ms/step - loss: 0.0738 - accuracy: 0.9790\n",
      "Epoch 74/100\n",
      "10/10 [==============================] - 0s 2ms/step - loss: 0.0778 - accuracy: 0.9843\n",
      "Epoch 75/100\n",
      "10/10 [==============================] - 0s 2ms/step - loss: 0.0638 - accuracy: 0.9834\n",
      "Epoch 76/100\n",
      "10/10 [==============================] - 0s 2ms/step - loss: 0.0603 - accuracy: 0.9884\n",
      "Epoch 77/100\n",
      "10/10 [==============================] - 0s 3ms/step - loss: 0.0612 - accuracy: 0.9877\n",
      "Epoch 78/100\n",
      "10/10 [==============================] - 0s 2ms/step - loss: 0.0546 - accuracy: 0.9916\n",
      "Epoch 79/100\n",
      "10/10 [==============================] - 0s 2ms/step - loss: 0.0477 - accuracy: 0.9957\n",
      "Epoch 80/100\n",
      "10/10 [==============================] - 0s 2ms/step - loss: 0.0477 - accuracy: 0.9966\n",
      "Epoch 81/100\n",
      "10/10 [==============================] - 0s 2ms/step - loss: 0.0522 - accuracy: 0.9960\n",
      "Epoch 82/100\n",
      "10/10 [==============================] - 0s 2ms/step - loss: 0.0425 - accuracy: 0.9967\n",
      "Epoch 83/100\n",
      "10/10 [==============================] - 0s 2ms/step - loss: 0.0489 - accuracy: 0.9973\n",
      "Epoch 84/100\n",
      "10/10 [==============================] - 0s 2ms/step - loss: 0.0462 - accuracy: 0.9931\n",
      "Epoch 85/100\n",
      "10/10 [==============================] - 0s 2ms/step - loss: 0.0584 - accuracy: 0.9879\n",
      "Epoch 86/100\n",
      "10/10 [==============================] - 0s 2ms/step - loss: 0.0363 - accuracy: 0.9978\n",
      "Epoch 87/100\n",
      "10/10 [==============================] - 0s 2ms/step - loss: 0.0364 - accuracy: 0.9960\n",
      "Epoch 88/100\n",
      "10/10 [==============================] - 0s 2ms/step - loss: 0.0453 - accuracy: 0.9962\n",
      "Epoch 89/100\n",
      "10/10 [==============================] - 0s 2ms/step - loss: 0.0359 - accuracy: 0.9994\n",
      "Epoch 90/100\n",
      "10/10 [==============================] - 0s 2ms/step - loss: 0.0387 - accuracy: 0.9987\n",
      "Epoch 91/100\n",
      "10/10 [==============================] - 0s 2ms/step - loss: 0.0359 - accuracy: 0.9956\n",
      "Epoch 92/100\n",
      "10/10 [==============================] - 0s 2ms/step - loss: 0.0433 - accuracy: 1.0000\n",
      "Epoch 93/100\n",
      "10/10 [==============================] - 0s 2ms/step - loss: 0.0336 - accuracy: 1.0000\n",
      "Epoch 94/100\n",
      "10/10 [==============================] - 0s 2ms/step - loss: 0.0241 - accuracy: 1.0000\n",
      "Epoch 95/100\n",
      "10/10 [==============================] - 0s 2ms/step - loss: 0.0342 - accuracy: 0.9987\n",
      "Epoch 96/100\n",
      "10/10 [==============================] - 0s 3ms/step - loss: 0.0318 - accuracy: 1.0000\n",
      "Epoch 97/100\n",
      "10/10 [==============================] - 0s 2ms/step - loss: 0.0265 - accuracy: 1.0000\n",
      "Epoch 98/100\n",
      "10/10 [==============================] - 0s 2ms/step - loss: 0.0340 - accuracy: 0.9966\n",
      "Epoch 99/100\n",
      "10/10 [==============================] - 0s 2ms/step - loss: 0.0279 - accuracy: 0.9994\n",
      "Epoch 100/100\n",
      "10/10 [==============================] - 0s 2ms/step - loss: 0.0341 - accuracy: 0.9991\n"
     ]
    },
    {
     "data": {
      "text/plain": [
       "<tensorflow.python.keras.callbacks.History at 0x1fdfebb39d0>"
      ]
     },
     "execution_count": 76,
     "metadata": {},
     "output_type": "execute_result"
    }
   ],
   "source": [
    "#import tensorflow as tf\n",
    "#from tensorflow import keras\n",
    "#from tensorflow.keras.models import Sequential\n",
    "model = keras.Sequential([\n",
    "    keras.layers.Dense(128,input_shape=(8,),activation='relu'),\n",
    "    keras.layers.Dense(288,activation='relu'),\n",
    "    keras.layers.Dense(1,activation='sigmoid'),\n",
    "]\n",
    ")\n",
    "model.compile(optimizer='adam', loss='binary_crossentropy', metrics=['accuracy'])\n",
    "model.fit(X_trainval_scaled, y_trainval,epochs=100)"
   ]
  },
  {
   "cell_type": "code",
   "execution_count": 77,
   "id": "german-catering",
   "metadata": {},
   "outputs": [
    {
     "name": "stdout",
     "output_type": "stream",
     "text": [
      "3/3 [==============================] - 0s 1ms/step - loss: 0.3408 - accuracy: 0.8533\n"
     ]
    },
    {
     "data": {
      "text/plain": [
       "[0.34075939655303955, 0.8533333539962769]"
      ]
     },
     "execution_count": 77,
     "metadata": {},
     "output_type": "execute_result"
    }
   ],
   "source": [
    "model.evaluate(X_test_scaled,y_test)"
   ]
  },
  {
   "cell_type": "code",
   "execution_count": null,
   "id": "lonely-borough",
   "metadata": {},
   "outputs": [],
   "source": []
  }
 ],
 "metadata": {
  "kernelspec": {
   "display_name": "Python 3.9.1 64-bit",
   "language": "python",
   "name": "python39164bit2f3d474d04f44a8c894ea6eef2aac63c"
  },
  "language_info": {
   "codemirror_mode": {
    "name": "ipython",
    "version": 3
   },
   "file_extension": ".py",
   "mimetype": "text/x-python",
   "name": "python",
   "nbconvert_exporter": "python",
   "pygments_lexer": "ipython3",
   "version": "3.9.1"
  }
 },
 "nbformat": 4,
 "nbformat_minor": 5
}
