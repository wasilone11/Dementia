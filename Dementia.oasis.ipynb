{
 "cells": [
  {
   "cell_type": "code",
   "execution_count": 52,
   "id": "occupational-laser",
   "metadata": {},
   "outputs": [],
   "source": [
    "import pandas as pd # used to load, manipulate the data and for one-hot encoding\n",
    "import numpy as np # data manipulation\n",
    "%matplotlib inline\n",
    "import matplotlib.pyplot as plt\n",
    "import matplotlib.colors as colors\n",
    "from sklearn.utils import resample # for downsample the dataset\n",
    "from sklearn.model_selection import train_test_split # for splitting the dataset into train and test split\n",
    "from sklearn.preprocessing import scale # scale and center the data\n",
    "from sklearn.svm import SVC # will make a SVM for classification\n",
    "from sklearn.model_selection import GridSearchCV # will do the cross validation\n",
    "from sklearn.metrics import plot_confusion_matrix # will draw the confusion matrix\n",
    "from sklearn.decomposition import PCA # to perform PCA to plot the data\n",
    "from sklearn.impute import SimpleImputer\n",
    "from sklearn.preprocessing import StandardScaler, MinMaxScaler\n",
    "from sklearn.model_selection import cross_val_score\n",
    "from sklearn.metrics import confusion_matrix, precision_score, accuracy_score, recall_score, roc_curve, auc\n",
    "import seaborn as sns"
   ]
  },
  {
   "cell_type": "code",
   "execution_count": 53,
   "id": "moral-component",
   "metadata": {},
   "outputs": [],
   "source": [
    "df = pd.read_csv(r'C:\\Users\\Dell\\Desktop\\OASISProject\\oasis_longitudinal.csv')"
   ]
  },
  {
   "cell_type": "code",
   "execution_count": 54,
   "id": "touched-mortgage",
   "metadata": {},
   "outputs": [
    {
     "data": {
      "text/html": [
       "<div>\n",
       "<style scoped>\n",
       "    .dataframe tbody tr th:only-of-type {\n",
       "        vertical-align: middle;\n",
       "    }\n",
       "\n",
       "    .dataframe tbody tr th {\n",
       "        vertical-align: top;\n",
       "    }\n",
       "\n",
       "    .dataframe thead th {\n",
       "        text-align: right;\n",
       "    }\n",
       "</style>\n",
       "<table border=\"1\" class=\"dataframe\">\n",
       "  <thead>\n",
       "    <tr style=\"text-align: right;\">\n",
       "      <th></th>\n",
       "      <th>Subject ID</th>\n",
       "      <th>MRI ID</th>\n",
       "      <th>Group</th>\n",
       "      <th>Visit</th>\n",
       "      <th>MR Delay</th>\n",
       "      <th>M/F</th>\n",
       "      <th>Hand</th>\n",
       "      <th>Age</th>\n",
       "      <th>EDUC</th>\n",
       "      <th>SES</th>\n",
       "      <th>MMSE</th>\n",
       "      <th>CDR</th>\n",
       "      <th>eTIV</th>\n",
       "      <th>nWBV</th>\n",
       "      <th>ASF</th>\n",
       "    </tr>\n",
       "  </thead>\n",
       "  <tbody>\n",
       "    <tr>\n",
       "      <th>0</th>\n",
       "      <td>OAS2_0001</td>\n",
       "      <td>OAS2_0001_MR1</td>\n",
       "      <td>Nondemented</td>\n",
       "      <td>1</td>\n",
       "      <td>0</td>\n",
       "      <td>M</td>\n",
       "      <td>R</td>\n",
       "      <td>87</td>\n",
       "      <td>14</td>\n",
       "      <td>2.0</td>\n",
       "      <td>27.0</td>\n",
       "      <td>0.0</td>\n",
       "      <td>1987</td>\n",
       "      <td>0.696</td>\n",
       "      <td>0.883</td>\n",
       "    </tr>\n",
       "    <tr>\n",
       "      <th>1</th>\n",
       "      <td>OAS2_0001</td>\n",
       "      <td>OAS2_0001_MR2</td>\n",
       "      <td>Nondemented</td>\n",
       "      <td>2</td>\n",
       "      <td>457</td>\n",
       "      <td>M</td>\n",
       "      <td>R</td>\n",
       "      <td>88</td>\n",
       "      <td>14</td>\n",
       "      <td>2.0</td>\n",
       "      <td>30.0</td>\n",
       "      <td>0.0</td>\n",
       "      <td>2004</td>\n",
       "      <td>0.681</td>\n",
       "      <td>0.876</td>\n",
       "    </tr>\n",
       "    <tr>\n",
       "      <th>2</th>\n",
       "      <td>OAS2_0002</td>\n",
       "      <td>OAS2_0002_MR1</td>\n",
       "      <td>Demented</td>\n",
       "      <td>1</td>\n",
       "      <td>0</td>\n",
       "      <td>M</td>\n",
       "      <td>R</td>\n",
       "      <td>75</td>\n",
       "      <td>12</td>\n",
       "      <td>NaN</td>\n",
       "      <td>23.0</td>\n",
       "      <td>0.5</td>\n",
       "      <td>1678</td>\n",
       "      <td>0.736</td>\n",
       "      <td>1.046</td>\n",
       "    </tr>\n",
       "    <tr>\n",
       "      <th>3</th>\n",
       "      <td>OAS2_0002</td>\n",
       "      <td>OAS2_0002_MR2</td>\n",
       "      <td>Demented</td>\n",
       "      <td>2</td>\n",
       "      <td>560</td>\n",
       "      <td>M</td>\n",
       "      <td>R</td>\n",
       "      <td>76</td>\n",
       "      <td>12</td>\n",
       "      <td>NaN</td>\n",
       "      <td>28.0</td>\n",
       "      <td>0.5</td>\n",
       "      <td>1738</td>\n",
       "      <td>0.713</td>\n",
       "      <td>1.010</td>\n",
       "    </tr>\n",
       "    <tr>\n",
       "      <th>4</th>\n",
       "      <td>OAS2_0002</td>\n",
       "      <td>OAS2_0002_MR3</td>\n",
       "      <td>Demented</td>\n",
       "      <td>3</td>\n",
       "      <td>1895</td>\n",
       "      <td>M</td>\n",
       "      <td>R</td>\n",
       "      <td>80</td>\n",
       "      <td>12</td>\n",
       "      <td>NaN</td>\n",
       "      <td>22.0</td>\n",
       "      <td>0.5</td>\n",
       "      <td>1698</td>\n",
       "      <td>0.701</td>\n",
       "      <td>1.034</td>\n",
       "    </tr>\n",
       "  </tbody>\n",
       "</table>\n",
       "</div>"
      ],
      "text/plain": [
       "  Subject ID         MRI ID        Group  Visit  MR Delay M/F Hand  Age  EDUC  \\\n",
       "0  OAS2_0001  OAS2_0001_MR1  Nondemented      1         0   M    R   87    14   \n",
       "1  OAS2_0001  OAS2_0001_MR2  Nondemented      2       457   M    R   88    14   \n",
       "2  OAS2_0002  OAS2_0002_MR1     Demented      1         0   M    R   75    12   \n",
       "3  OAS2_0002  OAS2_0002_MR2     Demented      2       560   M    R   76    12   \n",
       "4  OAS2_0002  OAS2_0002_MR3     Demented      3      1895   M    R   80    12   \n",
       "\n",
       "   SES  MMSE  CDR  eTIV   nWBV    ASF  \n",
       "0  2.0  27.0  0.0  1987  0.696  0.883  \n",
       "1  2.0  30.0  0.0  2004  0.681  0.876  \n",
       "2  NaN  23.0  0.5  1678  0.736  1.046  \n",
       "3  NaN  28.0  0.5  1738  0.713  1.010  \n",
       "4  NaN  22.0  0.5  1698  0.701  1.034  "
      ]
     },
     "execution_count": 54,
     "metadata": {},
     "output_type": "execute_result"
    }
   ],
   "source": [
    "df.head()"
   ]
  },
  {
   "cell_type": "code",
   "execution_count": 55,
   "id": "revised-hospital",
   "metadata": {},
   "outputs": [],
   "source": [
    "# Since all subjects are right-handed, we will drop this column. Also, Subject ID and\n",
    "# MRI ID are used for uniquely identifying the patient and have no role to play in our \n",
    "# model and so, will be dropped\n",
    "df=df.drop(['Subject ID','MRI ID','Hand'],axis=1)"
   ]
  },
  {
   "cell_type": "code",
   "execution_count": 56,
   "id": "functioning-europe",
   "metadata": {},
   "outputs": [
    {
     "data": {
      "text/plain": [
       "(373, 12)"
      ]
     },
     "execution_count": 56,
     "metadata": {},
     "output_type": "execute_result"
    }
   ],
   "source": [
    "df.shape"
   ]
  },
  {
   "cell_type": "code",
   "execution_count": 57,
   "id": "sufficient-orlando",
   "metadata": {},
   "outputs": [
    {
     "data": {
      "text/plain": [
       "Group        0\n",
       "Visit        0\n",
       "MR Delay     0\n",
       "M/F          0\n",
       "Age          0\n",
       "EDUC         0\n",
       "SES         19\n",
       "MMSE         2\n",
       "CDR          0\n",
       "eTIV         0\n",
       "nWBV         0\n",
       "ASF          0\n",
       "dtype: int64"
      ]
     },
     "execution_count": 57,
     "metadata": {},
     "output_type": "execute_result"
    }
   ],
   "source": [
    "missing_values_count = df.isnull().sum()\n",
    "missing_values_count[0:12]"
   ]
  },
  {
   "cell_type": "code",
   "execution_count": 58,
   "id": "available-bernard",
   "metadata": {},
   "outputs": [],
   "source": [
    "# Replacing missing values in SES and MMSE with median values\n",
    "df['SES'].fillna((df['SES'].median()), inplace=True)\n",
    "df['MMSE'].fillna((df['MMSE'].median()), inplace=True)\n"
   ]
  },
  {
   "cell_type": "code",
   "execution_count": 62,
   "id": "worth-secretariat",
   "metadata": {},
   "outputs": [],
   "source": [
    "# Converting M/F and Group coulumns to numeric data \n",
    "df['M/F'] = df['M/F'].replace(['M', 'F'], [1,0])\n",
    "df['Group'] = [1 if each == \"Demented\" or each == \"Converted\" else 0 for each in df['Group']]"
   ]
  },
  {
   "cell_type": "code",
   "execution_count": 63,
   "id": "appropriate-bacon",
   "metadata": {},
   "outputs": [
    {
     "data": {
      "text/html": [
       "<div>\n",
       "<style scoped>\n",
       "    .dataframe tbody tr th:only-of-type {\n",
       "        vertical-align: middle;\n",
       "    }\n",
       "\n",
       "    .dataframe tbody tr th {\n",
       "        vertical-align: top;\n",
       "    }\n",
       "\n",
       "    .dataframe thead th {\n",
       "        text-align: right;\n",
       "    }\n",
       "</style>\n",
       "<table border=\"1\" class=\"dataframe\">\n",
       "  <thead>\n",
       "    <tr style=\"text-align: right;\">\n",
       "      <th></th>\n",
       "      <th>Group</th>\n",
       "      <th>Visit</th>\n",
       "      <th>MR Delay</th>\n",
       "      <th>M/F</th>\n",
       "      <th>Age</th>\n",
       "      <th>EDUC</th>\n",
       "      <th>SES</th>\n",
       "      <th>MMSE</th>\n",
       "      <th>CDR</th>\n",
       "      <th>eTIV</th>\n",
       "      <th>nWBV</th>\n",
       "      <th>ASF</th>\n",
       "    </tr>\n",
       "  </thead>\n",
       "  <tbody>\n",
       "    <tr>\n",
       "      <th>0</th>\n",
       "      <td>0</td>\n",
       "      <td>1</td>\n",
       "      <td>0</td>\n",
       "      <td>1</td>\n",
       "      <td>87</td>\n",
       "      <td>14</td>\n",
       "      <td>2.0</td>\n",
       "      <td>27.0</td>\n",
       "      <td>0.0</td>\n",
       "      <td>1987</td>\n",
       "      <td>0.696</td>\n",
       "      <td>0.883</td>\n",
       "    </tr>\n",
       "    <tr>\n",
       "      <th>1</th>\n",
       "      <td>0</td>\n",
       "      <td>2</td>\n",
       "      <td>457</td>\n",
       "      <td>1</td>\n",
       "      <td>88</td>\n",
       "      <td>14</td>\n",
       "      <td>2.0</td>\n",
       "      <td>30.0</td>\n",
       "      <td>0.0</td>\n",
       "      <td>2004</td>\n",
       "      <td>0.681</td>\n",
       "      <td>0.876</td>\n",
       "    </tr>\n",
       "    <tr>\n",
       "      <th>2</th>\n",
       "      <td>1</td>\n",
       "      <td>1</td>\n",
       "      <td>0</td>\n",
       "      <td>1</td>\n",
       "      <td>75</td>\n",
       "      <td>12</td>\n",
       "      <td>2.0</td>\n",
       "      <td>23.0</td>\n",
       "      <td>0.5</td>\n",
       "      <td>1678</td>\n",
       "      <td>0.736</td>\n",
       "      <td>1.046</td>\n",
       "    </tr>\n",
       "    <tr>\n",
       "      <th>3</th>\n",
       "      <td>1</td>\n",
       "      <td>2</td>\n",
       "      <td>560</td>\n",
       "      <td>1</td>\n",
       "      <td>76</td>\n",
       "      <td>12</td>\n",
       "      <td>2.0</td>\n",
       "      <td>28.0</td>\n",
       "      <td>0.5</td>\n",
       "      <td>1738</td>\n",
       "      <td>0.713</td>\n",
       "      <td>1.010</td>\n",
       "    </tr>\n",
       "    <tr>\n",
       "      <th>4</th>\n",
       "      <td>1</td>\n",
       "      <td>3</td>\n",
       "      <td>1895</td>\n",
       "      <td>1</td>\n",
       "      <td>80</td>\n",
       "      <td>12</td>\n",
       "      <td>2.0</td>\n",
       "      <td>22.0</td>\n",
       "      <td>0.5</td>\n",
       "      <td>1698</td>\n",
       "      <td>0.701</td>\n",
       "      <td>1.034</td>\n",
       "    </tr>\n",
       "  </tbody>\n",
       "</table>\n",
       "</div>"
      ],
      "text/plain": [
       "   Group  Visit  MR Delay  M/F  Age  EDUC  SES  MMSE  CDR  eTIV   nWBV    ASF\n",
       "0      0      1         0    1   87    14  2.0  27.0  0.0  1987  0.696  0.883\n",
       "1      0      2       457    1   88    14  2.0  30.0  0.0  2004  0.681  0.876\n",
       "2      1      1         0    1   75    12  2.0  23.0  0.5  1678  0.736  1.046\n",
       "3      1      2       560    1   76    12  2.0  28.0  0.5  1738  0.713  1.010\n",
       "4      1      3      1895    1   80    12  2.0  22.0  0.5  1698  0.701  1.034"
      ]
     },
     "execution_count": 63,
     "metadata": {},
     "output_type": "execute_result"
    }
   ],
   "source": [
    "df.head()"
   ]
  },
  {
   "cell_type": "code",
   "execution_count": 64,
   "id": "sweet-minimum",
   "metadata": {},
   "outputs": [
    {
     "data": {
      "text/plain": [
       "Group       1.000000\n",
       "CDR         0.778049\n",
       "M/F         0.222146\n",
       "SES         0.038870\n",
       "ASF         0.032495\n",
       "Age        -0.005941\n",
       "eTIV       -0.042700\n",
       "Visit      -0.095507\n",
       "MR Delay   -0.120638\n",
       "EDUC       -0.193060\n",
       "nWBV       -0.311346\n",
       "MMSE       -0.520553\n",
       "Name: Group, dtype: float64"
      ]
     },
     "execution_count": 64,
     "metadata": {},
     "output_type": "execute_result"
    }
   ],
   "source": [
    "correlation = df.corr()\n",
    "df_corr = correlation['Group'].sort_values(ascending=False)\n",
    "df_corr"
   ]
  },
  {
   "cell_type": "code",
   "execution_count": 65,
   "id": "hollow-warren",
   "metadata": {},
   "outputs": [],
   "source": [
    "X = df.copy()\n",
    "y = X.pop(\"Group\")\n",
    "discrete_features = X.dtypes == int"
   ]
  },
  {
   "cell_type": "code",
   "execution_count": 47,
   "id": "waiting-great",
   "metadata": {},
   "outputs": [
    {
     "data": {
      "text/plain": [
       "CDR         0.544002\n",
       "MMSE        0.266225\n",
       "nWBV        0.088817\n",
       "M/F         0.070084\n",
       "eTIV        0.067931\n",
       "ASF         0.066479\n",
       "EDUC        0.022505\n",
       "SES         0.020410\n",
       "Age         0.020360\n",
       "MR Delay    0.017570\n",
       "Visit       0.000000\n",
       "Name: MI Scores, dtype: float64"
      ]
     },
     "execution_count": 47,
     "metadata": {},
     "output_type": "execute_result"
    }
   ],
   "source": [
    "from sklearn.feature_selection import mutual_info_regression\n",
    "def make_mi_scores(X, y, discrete_features):\n",
    "    mi_scores = mutual_info_regression(X, y, discrete_features=discrete_features)\n",
    "    mi_scores = pd.Series(mi_scores, name=\"MI Scores\", index=X.columns)\n",
    "    mi_scores = mi_scores.sort_values(ascending=False)\n",
    "    return mi_scores\n",
    "\n",
    "mi_scores = make_mi_scores(X, y, discrete_features)\n",
    "mi_scores"
   ]
  },
  {
   "cell_type": "code",
   "execution_count": 48,
   "id": "neither-narrative",
   "metadata": {},
   "outputs": [
    {
     "data": {
      "text/plain": [
       "Text(0.5, 1.0, 'Mutual Information Scores with respect to Group ')"
      ]
     },
     "execution_count": 48,
     "metadata": {},
     "output_type": "execute_result"
    },
    {
     "data": {
      "image/png": "[encoded data removed]",
      "text/plain": [
       "<Figure size 720x288 with 1 Axes>"
      ]
     },
     "metadata": {
      "needs_background": "light"
     },
     "output_type": "display_data"
    }
   ],
   "source": [
    "mi_scores.sort_values(ascending=False).plot.bar(figsize=(10, 4))\n",
    "plt.ylabel('MI Score')\n",
    "plt.xlabel('Feature')\n",
    "axes= plt.gca()\n",
    "axes.xaxis.label.set_size(13)\n",
    "axes.yaxis.label.set_size(13)\n",
    "axes.set_title('Mutual Information Scores with respect to Group ',fontsize=14)\n"
   ]
  },
  {
   "cell_type": "code",
   "execution_count": 59,
   "id": "systematic-scenario",
   "metadata": {},
   "outputs": [],
   "source": [
    "def univariate_mul(var):\n",
    "    fig = plt.figure(figsize=(8,8))\n",
    "    cmap=plt.cm.Blues\n",
    "    cmap1=plt.cm.coolwarm_r\n",
    "    ax1 = fig.add_subplot(221)\n",
    "    ax2 = fig.add_subplot(212)\n",
    "    df[var].plot(kind='hist',ax=ax1, grid=True)\n",
    "    ax1.set_title('Histogram of '+var, fontsize=14)\n",
    "    \n",
    "    ax2=sns.distplot(df[[var]],hist=False,color='green')\n",
    "    ax2.set_title('MMSE',fontsize=14,y=-0.2)\n",
    "  #  ax2.title.label.set_size(15)\n",
    "    ax2.yaxis.label.set_size(15)\n",
    "    plt.plot(color= 'green')\n",
    "    plt.show()"
   ]
  },
  {
   "cell_type": "code",
   "execution_count": 60,
   "id": "vocational-horizontal",
   "metadata": {},
   "outputs": [
    {
     "name": "stderr",
     "output_type": "stream",
     "text": [
      "C:\\Users\\Dell\\AppData\\Local\\Programs\\Python\\Python39\\lib\\site-packages\\seaborn\\distributions.py:2557: FutureWarning: `distplot` is a deprecated function and will be removed in a future version. Please adapt your code to use either `displot` (a figure-level function with similar flexibility) or `kdeplot` (an axes-level function for kernel density plots).\n",
      "  warnings.warn(msg, FutureWarning)\n"
     ]
    },
    {
     "data": {
      "image/png": "[encoded data removed]",
      "text/plain": [
       "<Figure size 576x576 with 2 Axes>"
      ]
     },
     "metadata": {
      "needs_background": "light"
     },
     "output_type": "display_data"
    }
   ],
   "source": [
    "univariate_mul('MMSE')\n"
   ]
  },
  {
   "cell_type": "code",
   "execution_count": 61,
   "id": "immune-investigation",
   "metadata": {},
   "outputs": [
    {
     "data": {
      "text/plain": [
       "(15.0, 30.0)"
      ]
     },
     "execution_count": 61,
     "metadata": {},
     "output_type": "execute_result"
    },
    {
     "data": {
      "image/png": "[encoded data removed]",
      "text/plain": [
       "<Figure size 550.35x216 with 1 Axes>"
      ]
     },
     "metadata": {
      "needs_background": "light"
     },
     "output_type": "display_data"
    }
   ],
   "source": [
    "facet= sns.FacetGrid(df,hue=\"Group\", aspect=2)\n",
    "facet.map(sns.kdeplot,'MMSE',shade= True)\n",
    "facet.set(xlim=(0, df['MMSE'].max()))\n",
    "facet.add_legend(fontsize=11)\n",
    "plt.xlabel('MMSE')\n",
    "#plt.ylabel('Group')\n",
    "axes= plt.gca()\n",
    "axes.xaxis.label.set_size(11)\n",
    "#axes.yaxis.label.set_size(13)\n",
    "#facet.figsize(8,5)\n",
    "plt.xlim([15,30])\n",
    "#plt.title(\"MMSE score for Demented, Non-demented and Converted Adults\",fontsize=13,y=-0.3)"
   ]
  },
  {
   "cell_type": "code",
   "execution_count": 66,
   "id": "trained-target",
   "metadata": {},
   "outputs": [
    {
     "data": {
      "text/html": [
       "<div>\n",
       "<style scoped>\n",
       "    .dataframe tbody tr th:only-of-type {\n",
       "        vertical-align: middle;\n",
       "    }\n",
       "\n",
       "    .dataframe tbody tr th {\n",
       "        vertical-align: top;\n",
       "    }\n",
       "\n",
       "    .dataframe thead th {\n",
       "        text-align: right;\n",
       "    }\n",
       "</style>\n",
       "<table border=\"1\" class=\"dataframe\">\n",
       "  <thead>\n",
       "    <tr style=\"text-align: right;\">\n",
       "      <th></th>\n",
       "      <th>Group</th>\n",
       "      <th>M/F</th>\n",
       "      <th>Age</th>\n",
       "      <th>EDUC</th>\n",
       "      <th>SES</th>\n",
       "      <th>MMSE</th>\n",
       "      <th>CDR</th>\n",
       "      <th>eTIV</th>\n",
       "      <th>nWBV</th>\n",
       "      <th>ASF</th>\n",
       "    </tr>\n",
       "  </thead>\n",
       "  <tbody>\n",
       "    <tr>\n",
       "      <th>0</th>\n",
       "      <td>0</td>\n",
       "      <td>1</td>\n",
       "      <td>87</td>\n",
       "      <td>14</td>\n",
       "      <td>2.0</td>\n",
       "      <td>27.0</td>\n",
       "      <td>0.0</td>\n",
       "      <td>1987</td>\n",
       "      <td>0.696</td>\n",
       "      <td>0.883</td>\n",
       "    </tr>\n",
       "    <tr>\n",
       "      <th>1</th>\n",
       "      <td>0</td>\n",
       "      <td>1</td>\n",
       "      <td>88</td>\n",
       "      <td>14</td>\n",
       "      <td>2.0</td>\n",
       "      <td>30.0</td>\n",
       "      <td>0.0</td>\n",
       "      <td>2004</td>\n",
       "      <td>0.681</td>\n",
       "      <td>0.876</td>\n",
       "    </tr>\n",
       "    <tr>\n",
       "      <th>2</th>\n",
       "      <td>1</td>\n",
       "      <td>1</td>\n",
       "      <td>75</td>\n",
       "      <td>12</td>\n",
       "      <td>2.0</td>\n",
       "      <td>23.0</td>\n",
       "      <td>0.5</td>\n",
       "      <td>1678</td>\n",
       "      <td>0.736</td>\n",
       "      <td>1.046</td>\n",
       "    </tr>\n",
       "    <tr>\n",
       "      <th>3</th>\n",
       "      <td>1</td>\n",
       "      <td>1</td>\n",
       "      <td>76</td>\n",
       "      <td>12</td>\n",
       "      <td>2.0</td>\n",
       "      <td>28.0</td>\n",
       "      <td>0.5</td>\n",
       "      <td>1738</td>\n",
       "      <td>0.713</td>\n",
       "      <td>1.010</td>\n",
       "    </tr>\n",
       "    <tr>\n",
       "      <th>4</th>\n",
       "      <td>1</td>\n",
       "      <td>1</td>\n",
       "      <td>80</td>\n",
       "      <td>12</td>\n",
       "      <td>2.0</td>\n",
       "      <td>22.0</td>\n",
       "      <td>0.5</td>\n",
       "      <td>1698</td>\n",
       "      <td>0.701</td>\n",
       "      <td>1.034</td>\n",
       "    </tr>\n",
       "    <tr>\n",
       "      <th>...</th>\n",
       "      <td>...</td>\n",
       "      <td>...</td>\n",
       "      <td>...</td>\n",
       "      <td>...</td>\n",
       "      <td>...</td>\n",
       "      <td>...</td>\n",
       "      <td>...</td>\n",
       "      <td>...</td>\n",
       "      <td>...</td>\n",
       "      <td>...</td>\n",
       "    </tr>\n",
       "    <tr>\n",
       "      <th>368</th>\n",
       "      <td>1</td>\n",
       "      <td>1</td>\n",
       "      <td>82</td>\n",
       "      <td>16</td>\n",
       "      <td>1.0</td>\n",
       "      <td>28.0</td>\n",
       "      <td>0.5</td>\n",
       "      <td>1693</td>\n",
       "      <td>0.694</td>\n",
       "      <td>1.037</td>\n",
       "    </tr>\n",
       "    <tr>\n",
       "      <th>369</th>\n",
       "      <td>1</td>\n",
       "      <td>1</td>\n",
       "      <td>86</td>\n",
       "      <td>16</td>\n",
       "      <td>1.0</td>\n",
       "      <td>26.0</td>\n",
       "      <td>0.5</td>\n",
       "      <td>1688</td>\n",
       "      <td>0.675</td>\n",
       "      <td>1.040</td>\n",
       "    </tr>\n",
       "    <tr>\n",
       "      <th>370</th>\n",
       "      <td>0</td>\n",
       "      <td>0</td>\n",
       "      <td>61</td>\n",
       "      <td>13</td>\n",
       "      <td>2.0</td>\n",
       "      <td>30.0</td>\n",
       "      <td>0.0</td>\n",
       "      <td>1319</td>\n",
       "      <td>0.801</td>\n",
       "      <td>1.331</td>\n",
       "    </tr>\n",
       "    <tr>\n",
       "      <th>371</th>\n",
       "      <td>0</td>\n",
       "      <td>0</td>\n",
       "      <td>63</td>\n",
       "      <td>13</td>\n",
       "      <td>2.0</td>\n",
       "      <td>30.0</td>\n",
       "      <td>0.0</td>\n",
       "      <td>1327</td>\n",
       "      <td>0.796</td>\n",
       "      <td>1.323</td>\n",
       "    </tr>\n",
       "    <tr>\n",
       "      <th>372</th>\n",
       "      <td>0</td>\n",
       "      <td>0</td>\n",
       "      <td>65</td>\n",
       "      <td>13</td>\n",
       "      <td>2.0</td>\n",
       "      <td>30.0</td>\n",
       "      <td>0.0</td>\n",
       "      <td>1333</td>\n",
       "      <td>0.801</td>\n",
       "      <td>1.317</td>\n",
       "    </tr>\n",
       "  </tbody>\n",
       "</table>\n",
       "<p>373 rows × 10 columns</p>\n",
       "</div>"
      ],
      "text/plain": [
       "     Group  M/F  Age  EDUC  SES  MMSE  CDR  eTIV   nWBV    ASF\n",
       "0        0    1   87    14  2.0  27.0  0.0  1987  0.696  0.883\n",
       "1        0    1   88    14  2.0  30.0  0.0  2004  0.681  0.876\n",
       "2        1    1   75    12  2.0  23.0  0.5  1678  0.736  1.046\n",
       "3        1    1   76    12  2.0  28.0  0.5  1738  0.713  1.010\n",
       "4        1    1   80    12  2.0  22.0  0.5  1698  0.701  1.034\n",
       "..     ...  ...  ...   ...  ...   ...  ...   ...    ...    ...\n",
       "368      1    1   82    16  1.0  28.0  0.5  1693  0.694  1.037\n",
       "369      1    1   86    16  1.0  26.0  0.5  1688  0.675  1.040\n",
       "370      0    0   61    13  2.0  30.0  0.0  1319  0.801  1.331\n",
       "371      0    0   63    13  2.0  30.0  0.0  1327  0.796  1.323\n",
       "372      0    0   65    13  2.0  30.0  0.0  1333  0.801  1.317\n",
       "\n",
       "[373 rows x 10 columns]"
      ]
     },
     "execution_count": 66,
     "metadata": {},
     "output_type": "execute_result"
    }
   ],
   "source": [
    " #we will drop MR delay column\n",
    "df.drop(columns=['MR Delay' , 'Visit'])"
   ]
  },
  {
   "cell_type": "code",
   "execution_count": 67,
   "id": "floppy-pulse",
   "metadata": {},
   "outputs": [
    {
     "data": {
      "text/plain": [
       "<AxesSubplot:xlabel='M/F', ylabel='CDR'>"
      ]
     },
     "execution_count": 67,
     "metadata": {},
     "output_type": "execute_result"
    },
    {
     "data": {
      "image/png": "[encoded data removed]",
      "text/plain": [
       "<Figure size 432x288 with 1 Axes>"
      ]
     },
     "metadata": {
      "needs_background": "light"
     },
     "output_type": "display_data"
    }
   ],
   "source": [
    "import matplotlib.pyplot as plt\n",
    "import seaborn as sns\n",
    "sns.violinplot(x=\"M/F\" , y=\"CDR\",kind='swarm', data = df)"
   ]
  },
  {
   "cell_type": "code",
   "execution_count": 68,
   "id": "instant-season",
   "metadata": {},
   "outputs": [],
   "source": [
    "from sklearn.model_selection import train_test_split \n",
    "y = df['Group'].values\n",
    "X = df[['M/F', 'Age', 'EDUC','MMSE', 'SES', 'eTIV', 'nWBV', 'ASF']].values\n"
   ]
  },
  {
   "cell_type": "code",
   "execution_count": 69,
   "id": "finished-domain",
   "metadata": {},
   "outputs": [
    {
     "name": "stdout",
     "output_type": "stream",
     "text": [
      "In Training Split:\n",
      "0    152\n",
      "1    146\n",
      "Name: 0, dtype: int64\n",
      "\n",
      "In Testing Split:\n",
      "0    38\n",
      "1    37\n",
      "Name: 0, dtype: int64\n"
     ]
    }
   ],
   "source": [
    "X_trainval, X_test, y_trainval, y_test = train_test_split(X, y, test_size= 0.20, random_state=42, stratify=y)\n",
    "\n",
    "df_ytrain = pd.DataFrame(y_trainval)\n",
    "df_ytest = pd.DataFrame(y_test)\n",
    "\n",
    "print('In Training Split:')\n",
    "print(df_ytrain[0].value_counts())\n",
    "\n",
    "print('\\nIn Testing Split:')\n",
    "print(df_ytest[0].value_counts())"
   ]
  },
  {
   "cell_type": "code",
   "execution_count": 70,
   "id": "invalid-winter",
   "metadata": {},
   "outputs": [],
   "source": [
    "from sklearn.preprocessing import StandardScaler, MinMaxScaler, RobustScaler\n",
    "from sklearn.model_selection import cross_val_score\n",
    "from sklearn.impute import SimpleImputer\n",
    "scaler = StandardScaler().fit(X_trainval)\n",
    "#scaler = MinMaxScaler().fit(X_trainval)\n",
    "#scaler = RobustScaler().fit(X_trainval)\n",
    "X_trainval_scaled = scaler.transform(X_trainval)\n",
    "X_test_scaled = scaler.transform(X_test)"
   ]
  },
  {
   "cell_type": "code",
   "execution_count": 71,
   "id": "confused-mailing",
   "metadata": {},
   "outputs": [
    {
     "name": "stdout",
     "output_type": "stream",
     "text": [
      "Train accuracy  0.8590604026845637\n",
      "Test accuracy  0.7466666666666667\n",
      "Test recall 0.5945945945945946\n",
      "Test AUC 0.744665718349929\n"
     ]
    }
   ],
   "source": [
    "from sklearn.svm import SVC \n",
    "clf_svm = SVC(random_state=42)\n",
    "clf_svm.fit(X_trainval_scaled, y_trainval)\n",
    "from sklearn.metrics import confusion_matrix, precision_score, accuracy_score, recall_score, roc_curve, auc\n",
    "train_score = 0\n",
    "test_score = 0\n",
    "test_recall = 0\n",
    "test_auc = 0\n",
    "\n",
    "train_score = clf_svm.score(X_trainval_scaled, y_trainval)\n",
    "test_score = clf_svm.score(X_test_scaled, y_test)\n",
    "y_predict = clf_svm.predict(X_test_scaled)\n",
    "test_recall = recall_score(y_test, y_predict)\n",
    "fpr, tpr, thresholds = roc_curve(y_test, y_predict)\n",
    "test_auc = auc(fpr, tpr)\n",
    "print(\"Train accuracy \", train_score)\n",
    "print(\"Test accuracy \", test_score)\n",
    "print(\"Test recall\", test_recall)\n",
    "print(\"Test AUC\", test_auc)"
   ]
  },
  {
   "cell_type": "code",
   "execution_count": 72,
   "id": "organizational-action",
   "metadata": {},
   "outputs": [
    {
     "name": "stdout",
     "output_type": "stream",
     "text": [
      "{'C': 6, 'gamma': 1, 'kernel': 'rbf'}\n"
     ]
    }
   ],
   "source": [
    "param_grid = [\n",
    "\n",
    "    {'C': [0.5, 1, 2, 3, 4, 5, 6, 7, 8, 9, 10, 30, 50, 80, 100],\n",
    "    'gamma': ['scale', 0.5, 1, 0.1, 0.01, 0.001, 0.0001, 0.00001],\n",
    "    'kernel': ['rbf', 'linear', 'poly', 'sigmoid']},\n",
    "]\n",
    "\n",
    "optimal_params = GridSearchCV(SVC(),\n",
    "                             param_grid,\n",
    "                             cv=5, # we are taking 5-fold as in k-fold cross validation\n",
    "                             scoring='accuracy', # try the other scoring if have time\n",
    "                             verbose=0,\n",
    "                             n_jobs=-1)\n",
    "\n",
    "optimal_params.fit(X_trainval_scaled, y_trainval)\n",
    "print(optimal_params.best_params_)"
   ]
  },
  {
   "cell_type": "code",
   "execution_count": 73,
   "id": "advised-genealogy",
   "metadata": {},
   "outputs": [],
   "source": [
    "C = optimal_params.best_params_['C']\n",
    "gamma = optimal_params.best_params_['gamma']\n",
    "kernel = optimal_params.best_params_['kernel']"
   ]
  },
  {
   "cell_type": "code",
   "execution_count": 74,
   "id": "unauthorized-significance",
   "metadata": {},
   "outputs": [
    {
     "data": {
      "text/plain": [
       "SVC(C=6, gamma=1, random_state=42)"
      ]
     },
     "execution_count": 74,
     "metadata": {},
     "output_type": "execute_result"
    }
   ],
   "source": [
    "clf_svm = SVC(random_state=42, C=C, gamma=gamma, kernel=kernel)\n",
    "clf_svm.fit(X_trainval_scaled, y_trainval)"
   ]
  },
  {
   "cell_type": "code",
   "execution_count": 75,
   "id": "labeled-weight",
   "metadata": {},
   "outputs": [
    {
     "name": "stdout",
     "output_type": "stream",
     "text": [
      "Train accuracy  1.0\n",
      "Test accuracy  0.92\n",
      "Test recall 0.918918918918919\n",
      "Test AUC 0.9199857752489331\n"
     ]
    }
   ],
   "source": [
    "train_score = 0\n",
    "test_score = 0\n",
    "test_recall = 0\n",
    "test_auc = 0\n",
    "\n",
    "train_score = clf_svm.score(X_trainval_scaled, y_trainval)\n",
    "test_score = clf_svm.score(X_test_scaled, y_test)\n",
    "y_predict = clf_svm.predict(X_test_scaled)\n",
    "\n",
    "test_recall = recall_score(y_test, y_predict)\n",
    "svm_fpr, svm_tpr, thresholds = roc_curve(y_test, y_predict)\n",
    "test_auc = auc(svm_fpr, svm_tpr)\n",
    "\n",
    "print(\"Train accuracy \", train_score)\n",
    "print(\"Test accuracy \", test_score)\n",
    "print(\"Test recall\", test_recall)\n",
    "print(\"Test AUC\", test_auc)"
   ]
  },
  {
   "cell_type": "code",
   "execution_count": 78,
   "id": "settled-banks",
   "metadata": {},
   "outputs": [],
   "source": [
    "from sklearn import metrics\n",
    "total_accuracy = {}\n",
    "def accuracy(model):\n",
    "    pred = model.predict(X_test_scaled)\n",
    "    accu = metrics.accuracy_score(y_test,pred)\n",
    "    print(\"\\nAcuuracy Of the Model: \",accu,\"\\n\\n\")\n",
    "    total_accuracy[str((str(model).split('(')[0]))] = accu\n",
    "    \n",
    "total_fpr = {}\n",
    "total_tpr = {}\n",
    "def roc_curves(model):\n",
    "    predictions_test = model.predict(X_test_scaled)\n",
    "    fpr, tpr, thresholds = roc_curve(predictions_test,y_test)\n",
    "    roc_auc = auc(fpr, tpr)\n",
    "    total_fpr[str((str(model).split('(')[0]))] = fpr\n",
    "    total_tpr[str((str(model).split('(')[0]))] = tpr\n",
    "    plt.figure()\n",
    "    plt.plot(fpr, tpr, color='darkorange', lw=1, label='ROC curve (area = %0.2f)' % roc_auc)\n",
    "    plt.plot([0, 1], [0, 1], color='navy', lw=2, linestyle='--')\n",
    "    plt.xlim([0.0, 1.0])\n",
    "    plt.ylim([0.0, 1.05])\n",
    "    plt.xlabel('False Positive Rate')\n",
    "    plt.ylabel('True Positive Rate')\n",
    "    plt.title('Receiver operating characteristic')\n",
    "    plt.legend(loc=\"lower right\")\n",
    "    plt.show()"
   ]
  },
  {
   "cell_type": "code",
   "execution_count": 79,
   "id": "absent-screening",
   "metadata": {},
   "outputs": [
    {
     "name": "stdout",
     "output_type": "stream",
     "text": [
      "SVC : \n"
     ]
    },
    {
     "data": {
      "image/png": "[encoded data removed]",
      "text/plain": [
       "<Figure size 432x288 with 1 Axes>"
      ]
     },
     "metadata": {
      "needs_background": "light"
     },
     "output_type": "display_data"
    },
    {
     "name": "stdout",
     "output_type": "stream",
     "text": [
      "\n",
      "Acuuracy Of the Model:  0.92 \n",
      "\n",
      "\n"
     ]
    }
   ],
   "source": [
    "model = clf_svm\n",
    "print(str(model).split('(')[0],\": \")\n",
    "model.fit(X_trainval_scaled,y_trainval.ravel())\n",
    "X = pd.DataFrame(X_trainval_scaled)\n",
    "#report_performance(model)\n",
    "roc_curves(model)\n",
    "accuracy(model)"
   ]
  },
  {
   "cell_type": "code",
   "execution_count": 80,
   "id": "artistic-cooking",
   "metadata": {},
   "outputs": [
    {
     "name": "stdout",
     "output_type": "stream",
     "text": [
      "Fitting 10 folds for each of 100 candidates, totalling 1000 fits\n"
     ]
    },
    {
     "data": {
      "text/plain": [
       "RandomizedSearchCV(cv=10, estimator=RandomForestClassifier(n_jobs=-1),\n",
       "                   n_iter=100, n_jobs=-1,\n",
       "                   param_distributions={'max_depth': range(1, 40),\n",
       "                                        'max_features': ['auto', 'sqrt'],\n",
       "                                        'min_samples_split': range(3, 60),\n",
       "                                        'n_estimators': range(10, 250)},\n",
       "                   random_state=42, scoring='neg_mean_absolute_error',\n",
       "                   verbose=2)"
      ]
     },
     "execution_count": 80,
     "metadata": {},
     "output_type": "execute_result"
    }
   ],
   "source": [
    "from sklearn.ensemble import (RandomForestClassifier, AdaBoostClassifier, \n",
    "                              GradientBoostingClassifier, ExtraTreesClassifier)\n",
    "from sklearn.model_selection import RandomizedSearchCV\n",
    "n_estimators = range(10,250)\n",
    "max_features = ['auto', 'sqrt']\n",
    "max_depth = range(1,40)\n",
    "min_samples_split = range(3,60)\n",
    "parametro_rf = {'n_estimators': n_estimators,\n",
    "               'max_features': max_features,\n",
    "               'max_depth': max_depth,\n",
    "               'min_samples_split': min_samples_split}\n",
    "FOLDS =10\n",
    "model_forest = RandomForestClassifier(n_jobs=-1)\n",
    "forest_random = RandomizedSearchCV(estimator = model_forest, param_distributions = parametro_rf, n_iter = 100, cv = FOLDS, \n",
    "                               verbose=2, random_state=42, n_jobs = -1, scoring='neg_mean_absolute_error')\n",
    "forest_random.fit(X_trainval_scaled, y_trainval)"
   ]
  },
  {
   "cell_type": "code",
   "execution_count": 81,
   "id": "recreational-trinidad",
   "metadata": {},
   "outputs": [
    {
     "data": {
      "text/plain": [
       "{'n_estimators': 46,\n",
       " 'min_samples_split': 3,\n",
       " 'max_features': 'sqrt',\n",
       " 'max_depth': 20}"
      ]
     },
     "execution_count": 81,
     "metadata": {},
     "output_type": "execute_result"
    }
   ],
   "source": [
    "forest_random.best_params_"
   ]
  },
  {
   "cell_type": "code",
   "execution_count": 82,
   "id": "portuguese-holmes",
   "metadata": {},
   "outputs": [
    {
     "data": {
      "text/plain": [
       "RandomForestClassifier(max_depth=20, max_features='sqrt', min_samples_split=3,\n",
       "                       n_estimators=46)"
      ]
     },
     "execution_count": 82,
     "metadata": {},
     "output_type": "execute_result"
    }
   ],
   "source": [
    "model_rf = forest_random.best_estimator_\n",
    "model_rf =  RandomForestClassifier(n_estimators=46,min_samples_split=3,max_features='sqrt',max_depth= 20)\n",
    "model_rf.fit(X_trainval_scaled,y_trainval)"
   ]
  },
  {
   "cell_type": "code",
   "execution_count": 83,
   "id": "italic-lighter",
   "metadata": {},
   "outputs": [],
   "source": [
    "Predicted_rf= model_rf.predict(X_test_scaled)\n",
    "test_recall = recall_score(y_test, Predicted_rf, pos_label=1)\n",
    "fpr, tpr, thresholds = roc_curve(y_test, Predicted_rf, pos_label=1)\n",
    "test_auc = auc(fpr, tpr)"
   ]
  },
  {
   "cell_type": "code",
   "execution_count": 90,
   "id": "cloudy-paradise",
   "metadata": {},
   "outputs": [
    {
     "name": "stdout",
     "output_type": "stream",
     "text": [
      "Test accuracy  0.8554022988505748\n",
      "Test recall 0.6756756756756757\n",
      "Test AUC 0.7852062588904694\n"
     ]
    }
   ],
   "source": [
    "test_score = cross_val_score(model_rf, X_trainval_scaled, y_trainval, cv=FOLDS, scoring='accuracy').mean() # Get recall for each parameter setting\n",
    "test_recall = recall_score(y_test, Predicted_rf, pos_label=1)\n",
    "fpr, tpr, thresholds = roc_curve(y_test, Predicted_rf, pos_label=1)\n",
    "test_auc = auc(fpr, tpr)\n",
    "#acc.append([model,test_score, test_recall, test_auc])\n",
    "#print(acc)\n",
    "#print(\"Train accuracy \", train_score)\n",
    "print(\"Test accuracy \", test_score)\n",
    "print(\"Test recall\", test_recall)\n",
    "print(\"Test AUC\", test_auc)"
   ]
  },
  {
   "cell_type": "code",
   "execution_count": 91,
   "id": "compatible-investor",
   "metadata": {},
   "outputs": [
    {
     "name": "stdout",
     "output_type": "stream",
     "text": [
      "RandomForestClassifier : \n"
     ]
    },
    {
     "data": {
      "image/png": "[encoded data removed]",
      "text/plain": [
       "<Figure size 432x288 with 1 Axes>"
      ]
     },
     "metadata": {
      "needs_background": "light"
     },
     "output_type": "display_data"
    }
   ],
   "source": [
    "model = RandomForestClassifier()\n",
    "print(str(model).split('(')[0],\": \")\n",
    "model.fit(X_trainval_scaled,y_trainval.ravel())\n",
    "X = pd.DataFrame(X_trainval_scaled)\n",
    "#report_performance(model)\n",
    "roc_curves(model)\n",
    "#accuracy(model)"
   ]
  },
  {
   "cell_type": "code",
   "execution_count": 95,
   "id": "tender-morrison",
   "metadata": {},
   "outputs": [
    {
     "name": "stdout",
     "output_type": "stream",
     "text": [
      "ExtraTreesClassifier : \n"
     ]
    },
    {
     "data": {
      "image/png": "[encoded data removed]",
      "text/plain": [
       "<Figure size 432x288 with 1 Axes>"
      ]
     },
     "metadata": {
      "needs_background": "light"
     },
     "output_type": "display_data"
    },
    {
     "ename": "TypeError",
     "evalue": "Expected sequence or array-like, got <class 'sklearn.ensemble._forest.ExtraTreesClassifier'>",
     "output_type": "error",
     "traceback": [
      "\u001b[1;31m---------------------------------------------------------------------------\u001b[0m",
      "\u001b[1;31mTypeError\u001b[0m                                 Traceback (most recent call last)",
      "\u001b[1;32m<ipython-input-95-0548c98c4e34>\u001b[0m in \u001b[0;36m<module>\u001b[1;34m\u001b[0m\n\u001b[0;32m     35\u001b[0m \u001b[1;31m#report_performance(model)\u001b[0m\u001b[1;33m\u001b[0m\u001b[1;33m\u001b[0m\u001b[1;33m\u001b[0m\u001b[0m\n\u001b[0;32m     36\u001b[0m \u001b[0mroc_curves\u001b[0m\u001b[1;33m(\u001b[0m\u001b[0mmodel\u001b[0m\u001b[1;33m)\u001b[0m\u001b[1;33m\u001b[0m\u001b[1;33m\u001b[0m\u001b[0m\n\u001b[1;32m---> 37\u001b[1;33m \u001b[0mtest_recall\u001b[0m \u001b[1;33m=\u001b[0m \u001b[0mrecall_score\u001b[0m\u001b[1;33m(\u001b[0m\u001b[0my_test\u001b[0m\u001b[1;33m,\u001b[0m \u001b[0mmodel\u001b[0m\u001b[1;33m,\u001b[0m \u001b[0mpos_label\u001b[0m\u001b[1;33m=\u001b[0m\u001b[1;36m1\u001b[0m\u001b[1;33m)\u001b[0m\u001b[1;33m\u001b[0m\u001b[1;33m\u001b[0m\u001b[0m\n\u001b[0m\u001b[0;32m     38\u001b[0m \u001b[0mprint\u001b[0m\u001b[1;33m(\u001b[0m\u001b[1;34m\"Test recall\"\u001b[0m\u001b[1;33m,\u001b[0m \u001b[0mtest_recall\u001b[0m\u001b[1;33m)\u001b[0m\u001b[1;33m\u001b[0m\u001b[1;33m\u001b[0m\u001b[0m\n\u001b[0;32m     39\u001b[0m \u001b[0maccuracy\u001b[0m\u001b[1;33m(\u001b[0m\u001b[0mmodel\u001b[0m\u001b[1;33m)\u001b[0m\u001b[1;33m\u001b[0m\u001b[1;33m\u001b[0m\u001b[0m\n",
      "\u001b[1;32m~\\AppData\\Local\\Programs\\Python\\Python39\\lib\\site-packages\\sklearn\\utils\\validation.py\u001b[0m in \u001b[0;36minner_f\u001b[1;34m(*args, **kwargs)\u001b[0m\n\u001b[0;32m     61\u001b[0m             \u001b[0mextra_args\u001b[0m \u001b[1;33m=\u001b[0m \u001b[0mlen\u001b[0m\u001b[1;33m(\u001b[0m\u001b[0margs\u001b[0m\u001b[1;33m)\u001b[0m \u001b[1;33m-\u001b[0m \u001b[0mlen\u001b[0m\u001b[1;33m(\u001b[0m\u001b[0mall_args\u001b[0m\u001b[1;33m)\u001b[0m\u001b[1;33m\u001b[0m\u001b[1;33m\u001b[0m\u001b[0m\n\u001b[0;32m     62\u001b[0m             \u001b[1;32mif\u001b[0m \u001b[0mextra_args\u001b[0m \u001b[1;33m<=\u001b[0m \u001b[1;36m0\u001b[0m\u001b[1;33m:\u001b[0m\u001b[1;33m\u001b[0m\u001b[1;33m\u001b[0m\u001b[0m\n\u001b[1;32m---> 63\u001b[1;33m                 \u001b[1;32mreturn\u001b[0m \u001b[0mf\u001b[0m\u001b[1;33m(\u001b[0m\u001b[1;33m*\u001b[0m\u001b[0margs\u001b[0m\u001b[1;33m,\u001b[0m \u001b[1;33m**\u001b[0m\u001b[0mkwargs\u001b[0m\u001b[1;33m)\u001b[0m\u001b[1;33m\u001b[0m\u001b[1;33m\u001b[0m\u001b[0m\n\u001b[0m\u001b[0;32m     64\u001b[0m \u001b[1;33m\u001b[0m\u001b[0m\n\u001b[0;32m     65\u001b[0m             \u001b[1;31m# extra_args > 0\u001b[0m\u001b[1;33m\u001b[0m\u001b[1;33m\u001b[0m\u001b[1;33m\u001b[0m\u001b[0m\n",
      "\u001b[1;32m~\\AppData\\Local\\Programs\\Python\\Python39\\lib\\site-packages\\sklearn\\metrics\\_classification.py\u001b[0m in \u001b[0;36mrecall_score\u001b[1;34m(y_true, y_pred, labels, pos_label, average, sample_weight, zero_division)\u001b[0m\n\u001b[0;32m   1769\u001b[0m     \u001b[0marray\u001b[0m\u001b[1;33m(\u001b[0m\u001b[1;33m[\u001b[0m\u001b[1;36m0.5\u001b[0m\u001b[1;33m,\u001b[0m \u001b[1;36m1.\u001b[0m \u001b[1;33m,\u001b[0m \u001b[1;36m1.\u001b[0m \u001b[1;33m]\u001b[0m\u001b[1;33m)\u001b[0m\u001b[1;33m\u001b[0m\u001b[1;33m\u001b[0m\u001b[0m\n\u001b[0;32m   1770\u001b[0m     \"\"\"\n\u001b[1;32m-> 1771\u001b[1;33m     _, r, _, _ = precision_recall_fscore_support(y_true, y_pred,\n\u001b[0m\u001b[0;32m   1772\u001b[0m                                                  \u001b[0mlabels\u001b[0m\u001b[1;33m=\u001b[0m\u001b[0mlabels\u001b[0m\u001b[1;33m,\u001b[0m\u001b[1;33m\u001b[0m\u001b[1;33m\u001b[0m\u001b[0m\n\u001b[0;32m   1773\u001b[0m                                                  \u001b[0mpos_label\u001b[0m\u001b[1;33m=\u001b[0m\u001b[0mpos_label\u001b[0m\u001b[1;33m,\u001b[0m\u001b[1;33m\u001b[0m\u001b[1;33m\u001b[0m\u001b[0m\n",
      "\u001b[1;32m~\\AppData\\Local\\Programs\\Python\\Python39\\lib\\site-packages\\sklearn\\utils\\validation.py\u001b[0m in \u001b[0;36minner_f\u001b[1;34m(*args, **kwargs)\u001b[0m\n\u001b[0;32m     61\u001b[0m             \u001b[0mextra_args\u001b[0m \u001b[1;33m=\u001b[0m \u001b[0mlen\u001b[0m\u001b[1;33m(\u001b[0m\u001b[0margs\u001b[0m\u001b[1;33m)\u001b[0m \u001b[1;33m-\u001b[0m \u001b[0mlen\u001b[0m\u001b[1;33m(\u001b[0m\u001b[0mall_args\u001b[0m\u001b[1;33m)\u001b[0m\u001b[1;33m\u001b[0m\u001b[1;33m\u001b[0m\u001b[0m\n\u001b[0;32m     62\u001b[0m             \u001b[1;32mif\u001b[0m \u001b[0mextra_args\u001b[0m \u001b[1;33m<=\u001b[0m \u001b[1;36m0\u001b[0m\u001b[1;33m:\u001b[0m\u001b[1;33m\u001b[0m\u001b[1;33m\u001b[0m\u001b[0m\n\u001b[1;32m---> 63\u001b[1;33m                 \u001b[1;32mreturn\u001b[0m \u001b[0mf\u001b[0m\u001b[1;33m(\u001b[0m\u001b[1;33m*\u001b[0m\u001b[0margs\u001b[0m\u001b[1;33m,\u001b[0m \u001b[1;33m**\u001b[0m\u001b[0mkwargs\u001b[0m\u001b[1;33m)\u001b[0m\u001b[1;33m\u001b[0m\u001b[1;33m\u001b[0m\u001b[0m\n\u001b[0m\u001b[0;32m     64\u001b[0m \u001b[1;33m\u001b[0m\u001b[0m\n\u001b[0;32m     65\u001b[0m             \u001b[1;31m# extra_args > 0\u001b[0m\u001b[1;33m\u001b[0m\u001b[1;33m\u001b[0m\u001b[1;33m\u001b[0m\u001b[0m\n",
      "\u001b[1;32m~\\AppData\\Local\\Programs\\Python\\Python39\\lib\\site-packages\\sklearn\\metrics\\_classification.py\u001b[0m in \u001b[0;36mprecision_recall_fscore_support\u001b[1;34m(y_true, y_pred, beta, labels, pos_label, average, warn_for, sample_weight, zero_division)\u001b[0m\n\u001b[0;32m   1459\u001b[0m     \u001b[1;32mif\u001b[0m \u001b[0mbeta\u001b[0m \u001b[1;33m<\u001b[0m \u001b[1;36m0\u001b[0m\u001b[1;33m:\u001b[0m\u001b[1;33m\u001b[0m\u001b[1;33m\u001b[0m\u001b[0m\n\u001b[0;32m   1460\u001b[0m         \u001b[1;32mraise\u001b[0m \u001b[0mValueError\u001b[0m\u001b[1;33m(\u001b[0m\u001b[1;34m\"beta should be >=0 in the F-beta score\"\u001b[0m\u001b[1;33m)\u001b[0m\u001b[1;33m\u001b[0m\u001b[1;33m\u001b[0m\u001b[0m\n\u001b[1;32m-> 1461\u001b[1;33m     labels = _check_set_wise_labels(y_true, y_pred, average, labels,\n\u001b[0m\u001b[0;32m   1462\u001b[0m                                     pos_label)\n\u001b[0;32m   1463\u001b[0m \u001b[1;33m\u001b[0m\u001b[0m\n",
      "\u001b[1;32m~\\AppData\\Local\\Programs\\Python\\Python39\\lib\\site-packages\\sklearn\\metrics\\_classification.py\u001b[0m in \u001b[0;36m_check_set_wise_labels\u001b[1;34m(y_true, y_pred, average, labels, pos_label)\u001b[0m\n\u001b[0;32m   1272\u001b[0m                          str(average_options))\n\u001b[0;32m   1273\u001b[0m \u001b[1;33m\u001b[0m\u001b[0m\n\u001b[1;32m-> 1274\u001b[1;33m     \u001b[0my_type\u001b[0m\u001b[1;33m,\u001b[0m \u001b[0my_true\u001b[0m\u001b[1;33m,\u001b[0m \u001b[0my_pred\u001b[0m \u001b[1;33m=\u001b[0m \u001b[0m_check_targets\u001b[0m\u001b[1;33m(\u001b[0m\u001b[0my_true\u001b[0m\u001b[1;33m,\u001b[0m \u001b[0my_pred\u001b[0m\u001b[1;33m)\u001b[0m\u001b[1;33m\u001b[0m\u001b[1;33m\u001b[0m\u001b[0m\n\u001b[0m\u001b[0;32m   1275\u001b[0m     \u001b[1;31m# Convert to Python primitive type to avoid NumPy type / Python str\u001b[0m\u001b[1;33m\u001b[0m\u001b[1;33m\u001b[0m\u001b[1;33m\u001b[0m\u001b[0m\n\u001b[0;32m   1276\u001b[0m     \u001b[1;31m# comparison. See https://github.com/numpy/numpy/issues/6784\u001b[0m\u001b[1;33m\u001b[0m\u001b[1;33m\u001b[0m\u001b[1;33m\u001b[0m\u001b[0m\n",
      "\u001b[1;32m~\\AppData\\Local\\Programs\\Python\\Python39\\lib\\site-packages\\sklearn\\metrics\\_classification.py\u001b[0m in \u001b[0;36m_check_targets\u001b[1;34m(y_true, y_pred)\u001b[0m\n\u001b[0;32m     81\u001b[0m     \u001b[0my_pred\u001b[0m \u001b[1;33m:\u001b[0m \u001b[0marray\u001b[0m \u001b[1;32mor\u001b[0m \u001b[0mindicator\u001b[0m \u001b[0mmatrix\u001b[0m\u001b[1;33m\u001b[0m\u001b[1;33m\u001b[0m\u001b[0m\n\u001b[0;32m     82\u001b[0m     \"\"\"\n\u001b[1;32m---> 83\u001b[1;33m     \u001b[0mcheck_consistent_length\u001b[0m\u001b[1;33m(\u001b[0m\u001b[0my_true\u001b[0m\u001b[1;33m,\u001b[0m \u001b[0my_pred\u001b[0m\u001b[1;33m)\u001b[0m\u001b[1;33m\u001b[0m\u001b[1;33m\u001b[0m\u001b[0m\n\u001b[0m\u001b[0;32m     84\u001b[0m     \u001b[0mtype_true\u001b[0m \u001b[1;33m=\u001b[0m \u001b[0mtype_of_target\u001b[0m\u001b[1;33m(\u001b[0m\u001b[0my_true\u001b[0m\u001b[1;33m)\u001b[0m\u001b[1;33m\u001b[0m\u001b[1;33m\u001b[0m\u001b[0m\n\u001b[0;32m     85\u001b[0m     \u001b[0mtype_pred\u001b[0m \u001b[1;33m=\u001b[0m \u001b[0mtype_of_target\u001b[0m\u001b[1;33m(\u001b[0m\u001b[0my_pred\u001b[0m\u001b[1;33m)\u001b[0m\u001b[1;33m\u001b[0m\u001b[1;33m\u001b[0m\u001b[0m\n",
      "\u001b[1;32m~\\AppData\\Local\\Programs\\Python\\Python39\\lib\\site-packages\\sklearn\\utils\\validation.py\u001b[0m in \u001b[0;36mcheck_consistent_length\u001b[1;34m(*arrays)\u001b[0m\n\u001b[0;32m    257\u001b[0m     \"\"\"\n\u001b[0;32m    258\u001b[0m \u001b[1;33m\u001b[0m\u001b[0m\n\u001b[1;32m--> 259\u001b[1;33m     \u001b[0mlengths\u001b[0m \u001b[1;33m=\u001b[0m \u001b[1;33m[\u001b[0m\u001b[0m_num_samples\u001b[0m\u001b[1;33m(\u001b[0m\u001b[0mX\u001b[0m\u001b[1;33m)\u001b[0m \u001b[1;32mfor\u001b[0m \u001b[0mX\u001b[0m \u001b[1;32min\u001b[0m \u001b[0marrays\u001b[0m \u001b[1;32mif\u001b[0m \u001b[0mX\u001b[0m \u001b[1;32mis\u001b[0m \u001b[1;32mnot\u001b[0m \u001b[1;32mNone\u001b[0m\u001b[1;33m]\u001b[0m\u001b[1;33m\u001b[0m\u001b[1;33m\u001b[0m\u001b[0m\n\u001b[0m\u001b[0;32m    260\u001b[0m     \u001b[0muniques\u001b[0m \u001b[1;33m=\u001b[0m \u001b[0mnp\u001b[0m\u001b[1;33m.\u001b[0m\u001b[0munique\u001b[0m\u001b[1;33m(\u001b[0m\u001b[0mlengths\u001b[0m\u001b[1;33m)\u001b[0m\u001b[1;33m\u001b[0m\u001b[1;33m\u001b[0m\u001b[0m\n\u001b[0;32m    261\u001b[0m     \u001b[1;32mif\u001b[0m \u001b[0mlen\u001b[0m\u001b[1;33m(\u001b[0m\u001b[0muniques\u001b[0m\u001b[1;33m)\u001b[0m \u001b[1;33m>\u001b[0m \u001b[1;36m1\u001b[0m\u001b[1;33m:\u001b[0m\u001b[1;33m\u001b[0m\u001b[1;33m\u001b[0m\u001b[0m\n",
      "\u001b[1;32m~\\AppData\\Local\\Programs\\Python\\Python39\\lib\\site-packages\\sklearn\\utils\\validation.py\u001b[0m in \u001b[0;36m<listcomp>\u001b[1;34m(.0)\u001b[0m\n\u001b[0;32m    257\u001b[0m     \"\"\"\n\u001b[0;32m    258\u001b[0m \u001b[1;33m\u001b[0m\u001b[0m\n\u001b[1;32m--> 259\u001b[1;33m     \u001b[0mlengths\u001b[0m \u001b[1;33m=\u001b[0m \u001b[1;33m[\u001b[0m\u001b[0m_num_samples\u001b[0m\u001b[1;33m(\u001b[0m\u001b[0mX\u001b[0m\u001b[1;33m)\u001b[0m \u001b[1;32mfor\u001b[0m \u001b[0mX\u001b[0m \u001b[1;32min\u001b[0m \u001b[0marrays\u001b[0m \u001b[1;32mif\u001b[0m \u001b[0mX\u001b[0m \u001b[1;32mis\u001b[0m \u001b[1;32mnot\u001b[0m \u001b[1;32mNone\u001b[0m\u001b[1;33m]\u001b[0m\u001b[1;33m\u001b[0m\u001b[1;33m\u001b[0m\u001b[0m\n\u001b[0m\u001b[0;32m    260\u001b[0m     \u001b[0muniques\u001b[0m \u001b[1;33m=\u001b[0m \u001b[0mnp\u001b[0m\u001b[1;33m.\u001b[0m\u001b[0munique\u001b[0m\u001b[1;33m(\u001b[0m\u001b[0mlengths\u001b[0m\u001b[1;33m)\u001b[0m\u001b[1;33m\u001b[0m\u001b[1;33m\u001b[0m\u001b[0m\n\u001b[0;32m    261\u001b[0m     \u001b[1;32mif\u001b[0m \u001b[0mlen\u001b[0m\u001b[1;33m(\u001b[0m\u001b[0muniques\u001b[0m\u001b[1;33m)\u001b[0m \u001b[1;33m>\u001b[0m \u001b[1;36m1\u001b[0m\u001b[1;33m:\u001b[0m\u001b[1;33m\u001b[0m\u001b[1;33m\u001b[0m\u001b[0m\n",
      "\u001b[1;32m~\\AppData\\Local\\Programs\\Python\\Python39\\lib\\site-packages\\sklearn\\utils\\validation.py\u001b[0m in \u001b[0;36m_num_samples\u001b[1;34m(x)\u001b[0m\n\u001b[0;32m    190\u001b[0m     \u001b[1;32mif\u001b[0m \u001b[0mhasattr\u001b[0m\u001b[1;33m(\u001b[0m\u001b[0mx\u001b[0m\u001b[1;33m,\u001b[0m \u001b[1;34m'fit'\u001b[0m\u001b[1;33m)\u001b[0m \u001b[1;32mand\u001b[0m \u001b[0mcallable\u001b[0m\u001b[1;33m(\u001b[0m\u001b[0mx\u001b[0m\u001b[1;33m.\u001b[0m\u001b[0mfit\u001b[0m\u001b[1;33m)\u001b[0m\u001b[1;33m:\u001b[0m\u001b[1;33m\u001b[0m\u001b[1;33m\u001b[0m\u001b[0m\n\u001b[0;32m    191\u001b[0m         \u001b[1;31m# Don't get num_samples from an ensembles length!\u001b[0m\u001b[1;33m\u001b[0m\u001b[1;33m\u001b[0m\u001b[1;33m\u001b[0m\u001b[0m\n\u001b[1;32m--> 192\u001b[1;33m         \u001b[1;32mraise\u001b[0m \u001b[0mTypeError\u001b[0m\u001b[1;33m(\u001b[0m\u001b[0mmessage\u001b[0m\u001b[1;33m)\u001b[0m\u001b[1;33m\u001b[0m\u001b[1;33m\u001b[0m\u001b[0m\n\u001b[0m\u001b[0;32m    193\u001b[0m \u001b[1;33m\u001b[0m\u001b[0m\n\u001b[0;32m    194\u001b[0m     \u001b[1;32mif\u001b[0m \u001b[1;32mnot\u001b[0m \u001b[0mhasattr\u001b[0m\u001b[1;33m(\u001b[0m\u001b[0mx\u001b[0m\u001b[1;33m,\u001b[0m \u001b[1;34m'__len__'\u001b[0m\u001b[1;33m)\u001b[0m \u001b[1;32mand\u001b[0m \u001b[1;32mnot\u001b[0m \u001b[0mhasattr\u001b[0m\u001b[1;33m(\u001b[0m\u001b[0mx\u001b[0m\u001b[1;33m,\u001b[0m \u001b[1;34m'shape'\u001b[0m\u001b[1;33m)\u001b[0m\u001b[1;33m:\u001b[0m\u001b[1;33m\u001b[0m\u001b[1;33m\u001b[0m\u001b[0m\n",
      "\u001b[1;31mTypeError\u001b[0m: Expected sequence or array-like, got <class 'sklearn.ensemble._forest.ExtraTreesClassifier'>"
     ]
    }
   ],
   "source": [
    "#from sklearn.model_selection import RandomizedSearchCV\n",
    "from sklearn import metrics\n",
    "total_accuracy = {}\n",
    "def accuracy(model):\n",
    "    pred = model.predict(X_test_scaled)\n",
    "    accu = metrics.accuracy_score(y_test,pred)\n",
    "    print(\"\\nAcuuracy Of the Model: \",accu,\"\\n\\n\")\n",
    "    total_accuracy[str((str(model).split('(')[0]))] = accu\n",
    "    \n",
    "total_fpr = {}\n",
    "total_tpr = {}\n",
    "def roc_curves(model):\n",
    "    predictions_test = model.predict(X_test_scaled)\n",
    "    fpr, tpr, thresholds = roc_curve(predictions_test,y_test)\n",
    "    roc_auc = auc(fpr, tpr)\n",
    "    total_fpr[str((str(model).split('(')[0]))] = fpr\n",
    "    total_tpr[str((str(model).split('(')[0]))] = tpr\n",
    "    plt.figure()\n",
    "    plt.plot(fpr, tpr, color='darkorange', lw=1, label='ROC curve (area = %0.2f)' % roc_auc)\n",
    "    plt.plot([0, 1], [0, 1], color='navy', lw=2, linestyle='--')\n",
    "    plt.xlim([0.0, 1.0])\n",
    "    plt.ylim([0.0, 1.05])\n",
    "    plt.xlabel('False Positive Rate')\n",
    "    plt.ylabel('True Positive Rate')\n",
    "    plt.title('Receiver operating characteristic')\n",
    "    plt.legend(loc=\"lower right\")\n",
    "    plt.show()\n",
    "\n",
    "from sklearn.ensemble import ExtraTreesClassifier\n",
    "from sklearn.tree import ExtraTreeClassifier\n",
    "model = ExtraTreesClassifier()\n",
    "print(str(model).split('(')[0],\": \")\n",
    "model.fit(X_trainval_scaled,y_trainval.ravel())\n",
    "X = pd.DataFrame(X_trainval_scaled)\n",
    "#report_performance(model)\n",
    "roc_curves(model)\n",
    "test_recall = recall_score(y_test, model, pos_label=1)\n",
    "print(\"Test recall\", test_recall)\n",
    "accuracy(model)"
   ]
  },
  {
   "cell_type": "code",
   "execution_count": 120,
   "id": "genuine-offset",
   "metadata": {},
   "outputs": [],
   "source": [
    "from sklearn import metrics\n",
    "def plot_confusion_metrix(y_test,model_test):\n",
    "    cm = metrics.confusion_matrix(y_test, model_test)\n",
    "    plt.figure(1)\n",
    "    plt.clf()\n",
    "    plt.imshow(cm, interpolation='nearest', cmap=plt.cm.Wistia)\n",
    "    classNames = ['Nondemented','Demented']\n",
    "    plt.title('Confusion Matrix')\n",
    "    plt.ylabel('True label')\n",
    "    plt.xlabel('Predicted label')\n",
    "    tick_marks = np.arange(len(classNames))\n",
    "    plt.xticks(tick_marks, classNames)\n",
    "    plt.yticks(tick_marks, classNames)\n",
    "    s = [['TN','FP'], ['FN', 'TP']]\n",
    "    for i in range(2):\n",
    "        for j in range(2):\n",
    "            plt.text(j,i, str(s[i][j])+\" = \"+str(cm[i][j]))\n",
    "    plt.show()"
   ]
  },
  {
   "cell_type": "code",
   "execution_count": 96,
   "id": "national-carroll",
   "metadata": {},
   "outputs": [
    {
     "name": "stdout",
     "output_type": "stream",
     "text": [
      "INFO:tensorflow:Enabling eager execution\n",
      "INFO:tensorflow:Enabling v2 tensorshape\n",
      "INFO:tensorflow:Enabling resource variables\n",
      "INFO:tensorflow:Enabling tensor equality\n",
      "INFO:tensorflow:Enabling control flow v2\n"
     ]
    }
   ],
   "source": [
    "import pandas as pd\n",
    "from tensorflow import keras\n",
    "from tensorflow.keras import layers\n",
    "from kerastuner.tuners import RandomSearch"
   ]
  },
  {
   "cell_type": "code",
   "execution_count": 27,
   "id": "outer-combine",
   "metadata": {},
   "outputs": [],
   "source": [
    "def build_model(hp):\n",
    "    model = keras.Sequential()\n",
    "    for i in range(hp.Int('num_layers', 2, 20)):\n",
    "        model.add(layers.Dense(units=hp.Int('units_' + str(i),\n",
    "                                            min_value=32,\n",
    "                                            max_value=512,\n",
    "                                            step=32),\n",
    "                               activation='relu'))\n",
    "    model.add(layers.Dense(1, activation='linear'))\n",
    "    model.compile(\n",
    "        optimizer=keras.optimizers.Adam(\n",
    "            hp.Choice('learning_rate', [1e-2, 1e-3, 1e-4])),\n",
    "        loss='mean_absolute_error',\n",
    "        metrics=['mean_absolute_error'])\n",
    "    return model"
   ]
  },
  {
   "cell_type": "code",
   "execution_count": 28,
   "id": "gentle-sewing",
   "metadata": {},
   "outputs": [
    {
     "name": "stdout",
     "output_type": "stream",
     "text": [
      "INFO:tensorflow:Reloading Oracle from existing project project\\Dementia\\oracle.json\n",
      "INFO:tensorflow:Reloading Tuner from project\\Dementia\\tuner0.json\n"
     ]
    }
   ],
   "source": [
    "tuner = RandomSearch(\n",
    "    build_model,\n",
    "    objective='val_mean_absolute_error',\n",
    "    max_trials=5,\n",
    "    executions_per_trial=3,\n",
    "    directory='project',\n",
    "    project_name='Dementia')"
   ]
  },
  {
   "cell_type": "code",
   "execution_count": 29,
   "id": "underlying-miracle",
   "metadata": {},
   "outputs": [
    {
     "name": "stdout",
     "output_type": "stream",
     "text": [
      "Search space summary\n",
      "Default search space size: 22\n",
      "num_layers (Int)\n",
      "{'default': None, 'conditions': [], 'min_value': 2, 'max_value': 20, 'step': 1, 'sampling': None}\n",
      "units_0 (Int)\n",
      "{'default': None, 'conditions': [], 'min_value': 32, 'max_value': 512, 'step': 32, 'sampling': None}\n",
      "units_1 (Int)\n",
      "{'default': None, 'conditions': [], 'min_value': 32, 'max_value': 512, 'step': 32, 'sampling': None}\n",
      "learning_rate (Choice)\n",
      "{'default': 0.01, 'conditions': [], 'values': [0.01, 0.001, 0.0001], 'ordered': True}\n",
      "units_2 (Int)\n",
      "{'default': None, 'conditions': [], 'min_value': 32, 'max_value': 512, 'step': 32, 'sampling': None}\n",
      "units_3 (Int)\n",
      "{'default': None, 'conditions': [], 'min_value': 32, 'max_value': 512, 'step': 32, 'sampling': None}\n",
      "units_4 (Int)\n",
      "{'default': None, 'conditions': [], 'min_value': 32, 'max_value': 512, 'step': 32, 'sampling': None}\n",
      "units_5 (Int)\n",
      "{'default': None, 'conditions': [], 'min_value': 32, 'max_value': 512, 'step': 32, 'sampling': None}\n",
      "units_6 (Int)\n",
      "{'default': None, 'conditions': [], 'min_value': 32, 'max_value': 512, 'step': 32, 'sampling': None}\n",
      "units_7 (Int)\n",
      "{'default': None, 'conditions': [], 'min_value': 32, 'max_value': 512, 'step': 32, 'sampling': None}\n",
      "units_8 (Int)\n",
      "{'default': None, 'conditions': [], 'min_value': 32, 'max_value': 512, 'step': 32, 'sampling': None}\n",
      "units_9 (Int)\n",
      "{'default': None, 'conditions': [], 'min_value': 32, 'max_value': 512, 'step': 32, 'sampling': None}\n",
      "units_10 (Int)\n",
      "{'default': None, 'conditions': [], 'min_value': 32, 'max_value': 512, 'step': 32, 'sampling': None}\n",
      "units_11 (Int)\n",
      "{'default': None, 'conditions': [], 'min_value': 32, 'max_value': 512, 'step': 32, 'sampling': None}\n",
      "units_12 (Int)\n",
      "{'default': None, 'conditions': [], 'min_value': 32, 'max_value': 512, 'step': 32, 'sampling': None}\n",
      "units_13 (Int)\n",
      "{'default': None, 'conditions': [], 'min_value': 32, 'max_value': 512, 'step': 32, 'sampling': None}\n",
      "units_14 (Int)\n",
      "{'default': None, 'conditions': [], 'min_value': 32, 'max_value': 512, 'step': 32, 'sampling': None}\n",
      "units_15 (Int)\n",
      "{'default': None, 'conditions': [], 'min_value': 32, 'max_value': 512, 'step': 32, 'sampling': None}\n",
      "units_16 (Int)\n",
      "{'default': None, 'conditions': [], 'min_value': 32, 'max_value': 512, 'step': 32, 'sampling': None}\n",
      "units_17 (Int)\n",
      "{'default': None, 'conditions': [], 'min_value': 32, 'max_value': 512, 'step': 32, 'sampling': None}\n",
      "units_18 (Int)\n",
      "{'default': None, 'conditions': [], 'min_value': 32, 'max_value': 512, 'step': 32, 'sampling': None}\n",
      "units_19 (Int)\n",
      "{'default': None, 'conditions': [], 'min_value': 32, 'max_value': 512, 'step': 32, 'sampling': None}\n"
     ]
    }
   ],
   "source": [
    "tuner.search_space_summary()"
   ]
  },
  {
   "cell_type": "code",
   "execution_count": 30,
   "id": "valuable-topic",
   "metadata": {},
   "outputs": [
    {
     "name": "stdout",
     "output_type": "stream",
     "text": [
      "INFO:tensorflow:Oracle triggered exit\n"
     ]
    }
   ],
   "source": [
    "tuner.search(X_trainval_scaled, y_trainval,\n",
    "             epochs=5,\n",
    "             validation_data=(X_test_scaled, y_test))"
   ]
  },
  {
   "cell_type": "code",
   "execution_count": 31,
   "id": "quality-adobe",
   "metadata": {},
   "outputs": [
    {
     "name": "stdout",
     "output_type": "stream",
     "text": [
      "Results summary\n",
      "Results in project\\Dementia\n",
      "Showing 10 best trials\n",
      "Objective(name='val_mean_absolute_error', direction='min')\n",
      "Trial summary\n",
      "Hyperparameters:\n",
      "num_layers: 3\n",
      "units_0: 128\n",
      "units_1: 288\n",
      "learning_rate: 0.001\n",
      "units_2: 128\n",
      "units_3: 384\n",
      "units_4: 96\n",
      "units_5: 32\n",
      "units_6: 128\n",
      "units_7: 352\n",
      "units_8: 352\n",
      "units_9: 256\n",
      "units_10: 192\n",
      "units_11: 256\n",
      "units_12: 224\n",
      "units_13: 352\n",
      "units_14: 160\n",
      "units_15: 512\n",
      "units_16: 416\n",
      "units_17: 128\n",
      "units_18: 32\n",
      "units_19: 512\n",
      "Score: 0.29355305433273315\n",
      "Trial summary\n",
      "Hyperparameters:\n",
      "num_layers: 8\n",
      "units_0: 480\n",
      "units_1: 288\n",
      "learning_rate: 0.01\n",
      "units_2: 192\n",
      "units_3: 256\n",
      "units_4: 224\n",
      "units_5: 64\n",
      "units_6: 96\n",
      "units_7: 288\n",
      "units_8: 96\n",
      "units_9: 256\n",
      "units_10: 416\n",
      "units_11: 128\n",
      "units_12: 32\n",
      "units_13: 32\n",
      "units_14: 256\n",
      "units_15: 320\n",
      "units_16: 480\n",
      "units_17: 384\n",
      "units_18: 224\n",
      "units_19: 480\n",
      "Score: 0.30615828434626263\n",
      "Trial summary\n",
      "Hyperparameters:\n",
      "num_layers: 16\n",
      "units_0: 224\n",
      "units_1: 416\n",
      "learning_rate: 0.001\n",
      "units_2: 384\n",
      "units_3: 96\n",
      "units_4: 480\n",
      "units_5: 256\n",
      "units_6: 416\n",
      "units_7: 320\n",
      "units_8: 512\n",
      "units_9: 256\n",
      "units_10: 224\n",
      "units_11: 480\n",
      "units_12: 288\n",
      "units_13: 352\n",
      "units_14: 416\n",
      "units_15: 192\n",
      "units_16: 96\n",
      "units_17: 288\n",
      "units_18: 480\n",
      "units_19: 448\n",
      "Score: 0.33405404289563495\n",
      "Trial summary\n",
      "Hyperparameters:\n",
      "num_layers: 20\n",
      "units_0: 288\n",
      "units_1: 32\n",
      "learning_rate: 0.001\n",
      "units_2: 32\n",
      "units_3: 32\n",
      "units_4: 32\n",
      "units_5: 32\n",
      "units_6: 32\n",
      "units_7: 32\n",
      "units_8: 32\n",
      "units_9: 32\n",
      "units_10: 32\n",
      "units_11: 32\n",
      "units_12: 32\n",
      "units_13: 32\n",
      "units_14: 32\n",
      "units_15: 32\n",
      "units_16: 32\n",
      "units_17: 32\n",
      "units_18: 32\n",
      "units_19: 32\n",
      "Score: 0.4215697745482127\n",
      "Trial summary\n",
      "Hyperparameters:\n",
      "num_layers: 17\n",
      "units_0: 96\n",
      "units_1: 512\n",
      "learning_rate: 0.01\n",
      "units_2: 480\n",
      "units_3: 128\n",
      "units_4: 480\n",
      "units_5: 256\n",
      "units_6: 96\n",
      "units_7: 416\n",
      "units_8: 416\n",
      "units_9: 416\n",
      "units_10: 288\n",
      "units_11: 256\n",
      "units_12: 224\n",
      "units_13: 256\n",
      "units_14: 192\n",
      "units_15: 448\n",
      "units_16: 288\n",
      "units_17: 128\n",
      "units_18: 352\n",
      "units_19: 224\n",
      "Score: 0.4940047760804494\n"
     ]
    }
   ],
   "source": [
    "tuner.results_summary()"
   ]
  },
  {
   "cell_type": "code",
   "execution_count": 395,
   "id": "enormous-transcription",
   "metadata": {},
   "outputs": [
    {
     "name": "stdout",
     "output_type": "stream",
     "text": [
      "Epoch 1/100\n",
      "60/60 [==============================] - 1s 4ms/step - loss: 0.5672 - accuracy: 0.7191 - val_loss: 0.4845 - val_accuracy: 0.7467\n",
      "Epoch 2/100\n",
      "60/60 [==============================] - 0s 2ms/step - loss: 0.4400 - accuracy: 0.7715 - val_loss: 0.4470 - val_accuracy: 0.7600\n",
      "Epoch 3/100\n",
      "60/60 [==============================] - 0s 2ms/step - loss: 0.3457 - accuracy: 0.8447 - val_loss: 0.4164 - val_accuracy: 0.7733\n",
      "Epoch 4/100\n",
      "60/60 [==============================] - 0s 2ms/step - loss: 0.3209 - accuracy: 0.8552 - val_loss: 0.4603 - val_accuracy: 0.7067\n",
      "Epoch 5/100\n",
      "60/60 [==============================] - 0s 2ms/step - loss: 0.3084 - accuracy: 0.8536 - val_loss: 0.4269 - val_accuracy: 0.7733\n",
      "Epoch 6/100\n",
      "60/60 [==============================] - 0s 3ms/step - loss: 0.2758 - accuracy: 0.8984 - val_loss: 0.4359 - val_accuracy: 0.8000\n",
      "Epoch 7/100\n",
      "60/60 [==============================] - 0s 3ms/step - loss: 0.2700 - accuracy: 0.8748 - val_loss: 0.5109 - val_accuracy: 0.7467\n",
      "Epoch 8/100\n",
      "60/60 [==============================] - 0s 3ms/step - loss: 0.2868 - accuracy: 0.8817 - val_loss: 0.4152 - val_accuracy: 0.7600\n",
      "Epoch 9/100\n",
      "60/60 [==============================] - 0s 2ms/step - loss: 0.2333 - accuracy: 0.9042 - val_loss: 0.4099 - val_accuracy: 0.7600\n",
      "Epoch 10/100\n",
      "60/60 [==============================] - 0s 2ms/step - loss: 0.2494 - accuracy: 0.8959 - val_loss: 0.3838 - val_accuracy: 0.7867\n",
      "Epoch 11/100\n",
      "60/60 [==============================] - 0s 3ms/step - loss: 0.2869 - accuracy: 0.8345 - val_loss: 0.3994 - val_accuracy: 0.7733\n",
      "Epoch 12/100\n",
      "60/60 [==============================] - 0s 2ms/step - loss: 0.2443 - accuracy: 0.8932 - val_loss: 0.3741 - val_accuracy: 0.7867\n",
      "Epoch 13/100\n",
      "60/60 [==============================] - 0s 2ms/step - loss: 0.2357 - accuracy: 0.9013 - val_loss: 0.4012 - val_accuracy: 0.7467\n",
      "Epoch 14/100\n",
      "60/60 [==============================] - 0s 2ms/step - loss: 0.2376 - accuracy: 0.9000 - val_loss: 0.4641 - val_accuracy: 0.7867\n",
      "Epoch 15/100\n",
      "60/60 [==============================] - 0s 2ms/step - loss: 0.2043 - accuracy: 0.9168 - val_loss: 0.3664 - val_accuracy: 0.7867\n",
      "Epoch 16/100\n",
      "60/60 [==============================] - 0s 2ms/step - loss: 0.2154 - accuracy: 0.9104 - val_loss: 0.3551 - val_accuracy: 0.8400\n",
      "Epoch 17/100\n",
      "60/60 [==============================] - 0s 2ms/step - loss: 0.1993 - accuracy: 0.9338 - val_loss: 0.3690 - val_accuracy: 0.7733\n",
      "Epoch 18/100\n",
      "60/60 [==============================] - 0s 3ms/step - loss: 0.1573 - accuracy: 0.9275 - val_loss: 0.3821 - val_accuracy: 0.8533\n",
      "Epoch 19/100\n",
      "60/60 [==============================] - 0s 3ms/step - loss: 0.1831 - accuracy: 0.9292 - val_loss: 0.3414 - val_accuracy: 0.8267\n",
      "Epoch 20/100\n",
      "60/60 [==============================] - 0s 3ms/step - loss: 0.1293 - accuracy: 0.9577 - val_loss: 0.3285 - val_accuracy: 0.8667\n",
      "Epoch 21/100\n",
      "60/60 [==============================] - 0s 2ms/step - loss: 0.1667 - accuracy: 0.9322 - val_loss: 0.4255 - val_accuracy: 0.8267\n",
      "Epoch 22/100\n",
      "60/60 [==============================] - 0s 2ms/step - loss: 0.1140 - accuracy: 0.9654 - val_loss: 0.3100 - val_accuracy: 0.8533\n",
      "Epoch 23/100\n",
      "60/60 [==============================] - 0s 2ms/step - loss: 0.1424 - accuracy: 0.9486 - val_loss: 0.3275 - val_accuracy: 0.8267\n",
      "Epoch 24/100\n",
      "60/60 [==============================] - 0s 2ms/step - loss: 0.1668 - accuracy: 0.9438 - val_loss: 0.3407 - val_accuracy: 0.8400\n",
      "Epoch 25/100\n",
      "60/60 [==============================] - 0s 2ms/step - loss: 0.1172 - accuracy: 0.9723 - val_loss: 0.3553 - val_accuracy: 0.8533\n",
      "Epoch 26/100\n",
      "60/60 [==============================] - 0s 2ms/step - loss: 0.0977 - accuracy: 0.9817 - val_loss: 0.2922 - val_accuracy: 0.8533\n",
      "Epoch 27/100\n",
      "60/60 [==============================] - 0s 2ms/step - loss: 0.0929 - accuracy: 0.9747 - val_loss: 0.3088 - val_accuracy: 0.8667\n",
      "Epoch 28/100\n",
      "60/60 [==============================] - 0s 2ms/step - loss: 0.1062 - accuracy: 0.9710 - val_loss: 0.3010 - val_accuracy: 0.8667\n",
      "Epoch 29/100\n",
      "60/60 [==============================] - 0s 2ms/step - loss: 0.0855 - accuracy: 0.9817 - val_loss: 0.3270 - val_accuracy: 0.8000\n",
      "Epoch 30/100\n",
      "60/60 [==============================] - 0s 2ms/step - loss: 0.0908 - accuracy: 0.9809 - val_loss: 0.2857 - val_accuracy: 0.8667\n",
      "Epoch 31/100\n",
      "60/60 [==============================] - 0s 2ms/step - loss: 0.0743 - accuracy: 0.9836 - val_loss: 0.3172 - val_accuracy: 0.8267\n",
      "Epoch 32/100\n",
      "60/60 [==============================] - 0s 2ms/step - loss: 0.0782 - accuracy: 0.9835 - val_loss: 0.3220 - val_accuracy: 0.8667\n",
      "Epoch 33/100\n",
      "60/60 [==============================] - 0s 2ms/step - loss: 0.0921 - accuracy: 0.9693 - val_loss: 0.2405 - val_accuracy: 0.8933\n",
      "Epoch 34/100\n",
      "60/60 [==============================] - 0s 2ms/step - loss: 0.0593 - accuracy: 0.9952 - val_loss: 0.2789 - val_accuracy: 0.8533\n",
      "Epoch 35/100\n",
      "60/60 [==============================] - 0s 2ms/step - loss: 0.0726 - accuracy: 0.9874 - val_loss: 0.2828 - val_accuracy: 0.8400\n",
      "Epoch 36/100\n",
      "60/60 [==============================] - 0s 2ms/step - loss: 0.0506 - accuracy: 0.9924 - val_loss: 0.2943 - val_accuracy: 0.8133\n",
      "Epoch 37/100\n",
      "60/60 [==============================] - 0s 2ms/step - loss: 0.0548 - accuracy: 0.9974 - val_loss: 0.2474 - val_accuracy: 0.8933\n",
      "Epoch 38/100\n",
      "60/60 [==============================] - 0s 2ms/step - loss: 0.0679 - accuracy: 0.9785 - val_loss: 0.2780 - val_accuracy: 0.8533\n",
      "Epoch 39/100\n",
      "60/60 [==============================] - 0s 2ms/step - loss: 0.0391 - accuracy: 0.9926 - val_loss: 0.3569 - val_accuracy: 0.8267\n",
      "Epoch 40/100\n",
      "60/60 [==============================] - 0s 3ms/step - loss: 0.0405 - accuracy: 0.9906 - val_loss: 0.4353 - val_accuracy: 0.8267\n",
      "Epoch 41/100\n",
      "60/60 [==============================] - 0s 2ms/step - loss: 0.0467 - accuracy: 0.9972 - val_loss: 0.3038 - val_accuracy: 0.8667\n",
      "Epoch 42/100\n",
      "60/60 [==============================] - 0s 2ms/step - loss: 0.0346 - accuracy: 0.9996 - val_loss: 0.2715 - val_accuracy: 0.8400\n",
      "Epoch 43/100\n",
      "60/60 [==============================] - 0s 2ms/step - loss: 0.0712 - accuracy: 0.9578 - val_loss: 0.3296 - val_accuracy: 0.8533\n",
      "Epoch 44/100\n",
      "60/60 [==============================] - 0s 2ms/step - loss: 0.0497 - accuracy: 0.9868 - val_loss: 0.2979 - val_accuracy: 0.8667\n",
      "Epoch 45/100\n",
      "60/60 [==============================] - 0s 2ms/step - loss: 0.0377 - accuracy: 0.9875 - val_loss: 0.2755 - val_accuracy: 0.8667\n",
      "Epoch 46/100\n",
      "60/60 [==============================] - 0s 2ms/step - loss: 0.0309 - accuracy: 0.9971 - val_loss: 0.3180 - val_accuracy: 0.8667\n",
      "Epoch 47/100\n",
      "60/60 [==============================] - 0s 2ms/step - loss: 0.0373 - accuracy: 0.9830 - val_loss: 0.3165 - val_accuracy: 0.8667\n",
      "Epoch 48/100\n",
      "60/60 [==============================] - 0s 2ms/step - loss: 0.0447 - accuracy: 0.9945 - val_loss: 0.2864 - val_accuracy: 0.8400\n",
      "Epoch 49/100\n",
      "60/60 [==============================] - 0s 2ms/step - loss: 0.0237 - accuracy: 0.9974 - val_loss: 0.2636 - val_accuracy: 0.8933\n",
      "Epoch 50/100\n",
      "60/60 [==============================] - 0s 2ms/step - loss: 0.0242 - accuracy: 1.0000 - val_loss: 0.2650 - val_accuracy: 0.9067\n",
      "Epoch 51/100\n",
      "60/60 [==============================] - 0s 2ms/step - loss: 0.0193 - accuracy: 1.0000 - val_loss: 0.2603 - val_accuracy: 0.8933\n",
      "Epoch 52/100\n",
      "60/60 [==============================] - 0s 2ms/step - loss: 0.0226 - accuracy: 0.9993 - val_loss: 0.3178 - val_accuracy: 0.8933\n",
      "Epoch 53/100\n",
      "60/60 [==============================] - 0s 3ms/step - loss: 0.0217 - accuracy: 1.0000 - val_loss: 0.2645 - val_accuracy: 0.8667\n",
      "Epoch 54/100\n",
      "60/60 [==============================] - 0s 2ms/step - loss: 0.0140 - accuracy: 1.0000 - val_loss: 0.3276 - val_accuracy: 0.8800\n",
      "Epoch 55/100\n",
      "60/60 [==============================] - 0s 2ms/step - loss: 0.0125 - accuracy: 0.9998 - val_loss: 0.2883 - val_accuracy: 0.9067\n",
      "Epoch 56/100\n",
      "60/60 [==============================] - 0s 2ms/step - loss: 0.0168 - accuracy: 0.9989 - val_loss: 0.3380 - val_accuracy: 0.8800\n",
      "Epoch 57/100\n",
      "60/60 [==============================] - 0s 2ms/step - loss: 0.0152 - accuracy: 1.0000 - val_loss: 0.2691 - val_accuracy: 0.8667\n",
      "Epoch 58/100\n",
      "60/60 [==============================] - 0s 3ms/step - loss: 0.0107 - accuracy: 1.0000 - val_loss: 0.3192 - val_accuracy: 0.8800\n",
      "Epoch 59/100\n",
      "60/60 [==============================] - 0s 2ms/step - loss: 0.0099 - accuracy: 1.0000 - val_loss: 0.3225 - val_accuracy: 0.8533\n",
      "Epoch 60/100\n",
      "60/60 [==============================] - 0s 2ms/step - loss: 0.0078 - accuracy: 1.0000 - val_loss: 0.2754 - val_accuracy: 0.8800\n",
      "Epoch 61/100\n",
      "60/60 [==============================] - 0s 2ms/step - loss: 0.0118 - accuracy: 1.0000 - val_loss: 0.3150 - val_accuracy: 0.8667\n",
      "Epoch 62/100\n",
      "60/60 [==============================] - 0s 2ms/step - loss: 0.0089 - accuracy: 1.0000 - val_loss: 0.3170 - val_accuracy: 0.8800\n",
      "Epoch 63/100\n",
      "60/60 [==============================] - 0s 2ms/step - loss: 0.0097 - accuracy: 1.0000 - val_loss: 0.3391 - val_accuracy: 0.8667\n",
      "Epoch 64/100\n",
      "60/60 [==============================] - 0s 2ms/step - loss: 0.0095 - accuracy: 1.0000 - val_loss: 0.3094 - val_accuracy: 0.8533\n",
      "Epoch 65/100\n",
      "60/60 [==============================] - 0s 3ms/step - loss: 0.0076 - accuracy: 1.0000 - val_loss: 0.2685 - val_accuracy: 0.8933\n",
      "Epoch 66/100\n",
      "60/60 [==============================] - 0s 2ms/step - loss: 0.0066 - accuracy: 1.0000 - val_loss: 0.3087 - val_accuracy: 0.8800\n",
      "Epoch 67/100\n",
      "60/60 [==============================] - ETA: 0s - loss: 0.0077 - accuracy: 1.00 - 0s 3ms/step - loss: 0.0077 - accuracy: 1.0000 - val_loss: 0.2586 - val_accuracy: 0.8933\n",
      "Epoch 68/100\n",
      "60/60 [==============================] - 0s 3ms/step - loss: 0.0122 - accuracy: 1.0000 - val_loss: 0.2698 - val_accuracy: 0.8933\n",
      "Epoch 69/100\n",
      "60/60 [==============================] - 0s 2ms/step - loss: 0.0270 - accuracy: 0.9886 - val_loss: 0.4283 - val_accuracy: 0.8533\n",
      "Epoch 70/100\n",
      "60/60 [==============================] - 0s 2ms/step - loss: 0.0915 - accuracy: 0.9757 - val_loss: 0.4792 - val_accuracy: 0.8800\n",
      "Epoch 71/100\n",
      "60/60 [==============================] - 0s 2ms/step - loss: 0.0295 - accuracy: 0.9904 - val_loss: 0.3758 - val_accuracy: 0.8667\n",
      "Epoch 72/100\n",
      "60/60 [==============================] - 0s 2ms/step - loss: 0.1178 - accuracy: 0.9559 - val_loss: 0.4181 - val_accuracy: 0.8400\n",
      "Epoch 73/100\n",
      "60/60 [==============================] - 0s 2ms/step - loss: 0.0304 - accuracy: 0.9863 - val_loss: 0.2116 - val_accuracy: 0.9200\n",
      "Epoch 74/100\n",
      "60/60 [==============================] - 0s 2ms/step - loss: 0.0287 - accuracy: 0.9941 - val_loss: 0.4832 - val_accuracy: 0.8800\n",
      "Epoch 75/100\n",
      "60/60 [==============================] - 0s 2ms/step - loss: 0.0124 - accuracy: 1.0000 - val_loss: 0.2912 - val_accuracy: 0.8800\n",
      "Epoch 76/100\n",
      "60/60 [==============================] - 0s 3ms/step - loss: 0.0074 - accuracy: 1.0000 - val_loss: 0.3512 - val_accuracy: 0.8667\n",
      "Epoch 77/100\n",
      "60/60 [==============================] - 0s 3ms/step - loss: 0.0061 - accuracy: 1.0000 - val_loss: 0.2814 - val_accuracy: 0.9067\n",
      "Epoch 78/100\n",
      "60/60 [==============================] - 0s 2ms/step - loss: 0.0067 - accuracy: 1.0000 - val_loss: 0.3107 - val_accuracy: 0.8933\n",
      "Epoch 79/100\n",
      "60/60 [==============================] - 0s 2ms/step - loss: 0.0048 - accuracy: 1.0000 - val_loss: 0.3089 - val_accuracy: 0.8933\n",
      "Epoch 80/100\n",
      "60/60 [==============================] - 0s 2ms/step - loss: 0.0034 - accuracy: 1.0000 - val_loss: 0.2959 - val_accuracy: 0.8933\n",
      "Epoch 81/100\n",
      "60/60 [==============================] - 0s 2ms/step - loss: 0.0045 - accuracy: 1.0000 - val_loss: 0.3047 - val_accuracy: 0.8933\n",
      "Epoch 82/100\n",
      "60/60 [==============================] - 0s 2ms/step - loss: 0.0039 - accuracy: 1.0000 - val_loss: 0.2972 - val_accuracy: 0.9067\n",
      "Epoch 83/100\n",
      "60/60 [==============================] - 0s 2ms/step - loss: 0.0031 - accuracy: 1.0000 - val_loss: 0.3064 - val_accuracy: 0.8933\n",
      "Epoch 84/100\n",
      "60/60 [==============================] - 0s 2ms/step - loss: 0.0036 - accuracy: 1.0000 - val_loss: 0.3056 - val_accuracy: 0.8933\n",
      "Epoch 85/100\n",
      "60/60 [==============================] - 0s 2ms/step - loss: 0.0032 - accuracy: 1.0000 - val_loss: 0.2986 - val_accuracy: 0.8933\n",
      "Epoch 86/100\n",
      "60/60 [==============================] - 0s 2ms/step - loss: 0.0039 - accuracy: 1.0000 - val_loss: 0.3087 - val_accuracy: 0.8933\n",
      "Epoch 87/100\n",
      "60/60 [==============================] - 0s 2ms/step - loss: 0.0038 - accuracy: 1.0000 - val_loss: 0.3124 - val_accuracy: 0.8933\n",
      "Epoch 88/100\n",
      "60/60 [==============================] - 0s 2ms/step - loss: 0.0026 - accuracy: 1.0000 - val_loss: 0.3007 - val_accuracy: 0.8933\n",
      "Epoch 89/100\n",
      "60/60 [==============================] - 0s 2ms/step - loss: 0.0026 - accuracy: 1.0000 - val_loss: 0.3031 - val_accuracy: 0.8933\n",
      "Epoch 90/100\n",
      "60/60 [==============================] - 0s 3ms/step - loss: 0.0032 - accuracy: 1.0000 - val_loss: 0.3130 - val_accuracy: 0.8933\n",
      "Epoch 91/100\n",
      "60/60 [==============================] - 0s 2ms/step - loss: 0.0024 - accuracy: 1.0000 - val_loss: 0.2931 - val_accuracy: 0.8800\n",
      "Epoch 92/100\n",
      "60/60 [==============================] - 0s 2ms/step - loss: 0.0027 - accuracy: 1.0000 - val_loss: 0.3132 - val_accuracy: 0.8933\n",
      "Epoch 93/100\n",
      "60/60 [==============================] - 0s 2ms/step - loss: 0.0029 - accuracy: 1.0000 - val_loss: 0.3185 - val_accuracy: 0.8933\n",
      "Epoch 94/100\n",
      "60/60 [==============================] - 0s 2ms/step - loss: 0.0021 - accuracy: 1.0000 - val_loss: 0.3047 - val_accuracy: 0.8800\n",
      "Epoch 95/100\n",
      "60/60 [==============================] - 0s 2ms/step - loss: 0.0024 - accuracy: 1.0000 - val_loss: 0.3072 - val_accuracy: 0.8933\n",
      "Epoch 96/100\n",
      "60/60 [==============================] - 0s 2ms/step - loss: 0.0021 - accuracy: 1.0000 - val_loss: 0.3014 - val_accuracy: 0.8800\n",
      "Epoch 97/100\n",
      "60/60 [==============================] - 0s 2ms/step - loss: 0.0026 - accuracy: 1.0000 - val_loss: 0.3192 - val_accuracy: 0.8933\n",
      "Epoch 98/100\n",
      "60/60 [==============================] - 0s 2ms/step - loss: 0.0017 - accuracy: 1.0000 - val_loss: 0.3003 - val_accuracy: 0.8933\n",
      "Epoch 99/100\n",
      "60/60 [==============================] - 0s 2ms/step - loss: 0.0017 - accuracy: 1.0000 - val_loss: 0.3114 - val_accuracy: 0.8933\n",
      "Epoch 100/100\n",
      "60/60 [==============================] - 0s 2ms/step - loss: 0.0016 - accuracy: 1.0000 - val_loss: 0.3005 - val_accuracy: 0.8933\n"
     ]
    }
   ],
   "source": [
    "import tensorflow as tf\n",
    "from tensorflow import keras\n",
    "from tensorflow.keras.models import Sequential\n",
    "model = keras.Sequential([\n",
    "    keras.layers.Dense(128,input_shape=(8,),activation='relu'),\n",
    "    keras.layers.Dense(288,activation='relu'),\n",
    "    keras.layers.Dense(1,activation='sigmoid'),\n",
    "]\n",
    ")\n",
    "model.compile(optimizer='adam', loss='binary_crossentropy', metrics=['accuracy'])\n",
    "history=model.fit(X_trainval_scaled, y_trainval,epochs=100,batch_size=5,validation_data=(X_test_scaled, y_test))"
   ]
  },
  {
   "cell_type": "code",
   "execution_count": 396,
   "id": "provincial-stake",
   "metadata": {},
   "outputs": [
    {
     "name": "stdout",
     "output_type": "stream",
     "text": [
      "3/3 [==============================] - 0s 2ms/step - loss: 0.3005 - accuracy: 0.8933\n"
     ]
    },
    {
     "data": {
      "text/plain": [
       "[0.3004736602306366, 0.8933333158493042]"
      ]
     },
     "execution_count": 396,
     "metadata": {},
     "output_type": "execute_result"
    }
   ],
   "source": [
    "model.evaluate(X_test_scaled,y_test)"
   ]
  },
  {
   "cell_type": "code",
   "execution_count": 397,
   "id": "imported-original",
   "metadata": {},
   "outputs": [
    {
     "data": {
      "image/png": "[encoded data removed]",
      "text/plain": [
       "<Figure size 432x288 with 1 Axes>"
      ]
     },
     "metadata": {
      "needs_background": "light"
     },
     "output_type": "display_data"
    }
   ],
   "source": [
    "#import keras\n",
    "#from matplotlib import pyplot as plt\n",
    "#history = model.fit(X_trainval_scaled, y_trainval,validation_split = 0.2, epochs=100, batch_size=10)\n",
    "plt.plot(history.history['accuracy'])\n",
    "plt.plot(history.history['val_accuracy'])\n",
    "plt.title('model accuracy')\n",
    "plt.ylabel('accuracy')\n",
    "plt.xlabel('epoch')\n",
    "plt.legend(['train', 'val'], loc='upper left')\n",
    "plt.show()"
   ]
  },
  {
   "cell_type": "code",
   "execution_count": 398,
   "id": "domestic-third",
   "metadata": {},
   "outputs": [
    {
     "name": "stdout",
     "output_type": "stream",
     "text": [
      "dict_keys(['loss', 'accuracy', 'val_loss', 'val_accuracy'])\n"
     ]
    },
    {
     "data": {
      "image/png": "[encoded data removed]",
      "text/plain": [
       "<Figure size 432x288 with 1 Axes>"
      ]
     },
     "metadata": {
      "needs_background": "light"
     },
     "output_type": "display_data"
    },
    {
     "data": {
      "image/png": "[encoded data removed]",
      "text/plain": [
       "<Figure size 432x288 with 1 Axes>"
      ]
     },
     "metadata": {
      "needs_background": "light"
     },
     "output_type": "display_data"
    }
   ],
   "source": [
    "print(history.history.keys())\n",
    "# summarize history for accuracy\n",
    "plt.plot(history.history['accuracy'])\n",
    "plt.plot(history.history['val_accuracy'])\n",
    "plt.title('Model accuracy')\n",
    "plt.ylabel('Accuracy')\n",
    "plt.xlabel('Epoch')\n",
    "plt.legend(['Train', 'Test'], loc='upper left')\n",
    "plt.show()\n",
    "# summarize history for loss\n",
    "plt.plot(history.history['loss'])\n",
    "plt.plot(history.history['val_loss'])\n",
    "plt.title('Model loss')\n",
    "plt.ylabel('Loss')\n",
    "plt.xlabel('Epoch')\n",
    "plt.legend(['Train', 'Test'], loc='upper left')\n",
    "plt.show()"
   ]
  },
  {
   "cell_type": "code",
   "execution_count": null,
   "id": "described-restaurant",
   "metadata": {},
   "outputs": [],
   "source": []
  }
 ],
 "metadata": {
  "kernelspec": {
   "display_name": "Python 3.9.1 64-bit",
   "language": "python",
   "name": "python39164bit2f3d474d04f44a8c894ea6eef2aac63c"
  },
  "language_info": {
   "codemirror_mode": {
    "name": "ipython",
    "version": 3
   },
   "file_extension": ".py",
   "mimetype": "text/x-python",
   "name": "python",
   "nbconvert_exporter": "python",
   "pygments_lexer": "ipython3",
   "version": "3.9.1"
  }
 },
 "nbformat": 4,
 "nbformat_minor": 5
}
